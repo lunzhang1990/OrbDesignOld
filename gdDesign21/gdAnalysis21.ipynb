{
 "cells": [
  {
   "cell_type": "code",
   "execution_count": 1,
   "metadata": {},
   "outputs": [],
   "source": [
    "import json\n",
    "from collections import Counter"
   ]
  },
  {
   "cell_type": "code",
   "execution_count": 4,
   "metadata": {},
   "outputs": [
    {
     "ename": "FileNotFoundError",
     "evalue": "[Errno 2] No such file or directory: 'result12.json'",
     "output_type": "error",
     "traceback": [
      "\u001b[0;31m---------------------------------------------------------------------------\u001b[0m",
      "\u001b[0;31mFileNotFoundError\u001b[0m                         Traceback (most recent call last)",
      "\u001b[0;32m<ipython-input-4-18eb4f029838>\u001b[0m in \u001b[0;36m<module>\u001b[0;34m\u001b[0m\n\u001b[0;32m----> 1\u001b[0;31m \u001b[0;32mwith\u001b[0m \u001b[0mopen\u001b[0m\u001b[0;34m(\u001b[0m\u001b[0;34m\"result12.json\"\u001b[0m\u001b[0;34m,\u001b[0m\u001b[0;34m'r'\u001b[0m\u001b[0;34m)\u001b[0m \u001b[0;32mas\u001b[0m \u001b[0mfile\u001b[0m\u001b[0;34m:\u001b[0m\u001b[0;34m\u001b[0m\u001b[0;34m\u001b[0m\u001b[0m\n\u001b[0m\u001b[1;32m      2\u001b[0m     \u001b[0mre\u001b[0m \u001b[0;34m=\u001b[0m \u001b[0mjson\u001b[0m\u001b[0;34m.\u001b[0m\u001b[0mload\u001b[0m\u001b[0;34m(\u001b[0m\u001b[0mfile\u001b[0m\u001b[0;34m)\u001b[0m\u001b[0;34m\u001b[0m\u001b[0;34m\u001b[0m\u001b[0m\n",
      "\u001b[0;31mFileNotFoundError\u001b[0m: [Errno 2] No such file or directory: 'result12.json'"
     ]
    }
   ],
   "source": [
    "with open(\"result12.json\",'r') as file:\n",
    "    re = json.load(file)"
   ]
  },
  {
   "cell_type": "code",
   "execution_count": 4,
   "metadata": {},
   "outputs": [],
   "source": [
    "# for each component compute the proportion of good design\n",
    "gdStatistics20 = dict()\n",
    "samples = 1000\n",
    "for node in ret:\n",
    "    key = node[0][0]\n",
    "    gdStatistics20[key] = 0\n",
    "    #print(key)\n",
    "    for i in range(len(node)):\n",
    "        currNode  = node[i]\n",
    "        hill20 = currNode[-2]\n",
    "        if sum(hill20[:3]) > 0 and sum(hill20[3:]) == 0:\n",
    "            gdStatistics20[key]+=1\n",
    "    gdStatistics20[key]/=1000"
   ]
  },
  {
   "cell_type": "code",
   "execution_count": 5,
   "metadata": {
    "scrolled": false
   },
   "outputs": [
    {
     "name": "stdout",
     "output_type": "stream",
     "text": [
      "7 0.518\n",
      "18:1 0.681\n",
      "16 0.592\n",
      "11 0.618\n",
      "14:1 0.653\n"
     ]
    }
   ],
   "source": [
    "outside = 0\n",
    "inside = 0\n",
    "ds20 = dict()\n",
    "for k in gdStatistics20:\n",
    "    if gdStatistics20[k] > 0.5:\n",
    "        print(k,gdStatistics20[k])\n",
    "        inside += gdStatistics20[k]\n",
    "        ds20[k] = gdStatistics20[k]\n",
    "    else:\n",
    "        outside += gdStatistics20[k]"
   ]
  },
  {
   "cell_type": "code",
   "execution_count": 6,
   "metadata": {},
   "outputs": [
    {
     "name": "stdout",
     "output_type": "stream",
     "text": [
      "0.4374285714285714 0.040656250000000005\n"
     ]
    }
   ],
   "source": [
    "print(inside/7, outside/32)"
   ]
  },
  {
   "cell_type": "code",
   "execution_count": 7,
   "metadata": {},
   "outputs": [],
   "source": [
    "# for each component compute the proportion of good design\n",
    "gdStatistics10 = dict()\n",
    "samples = 1000\n",
    "for node in ret:\n",
    "    key = node[0][0]\n",
    "    gdStatistics10[key] = 0\n",
    "    #print(key)\n",
    "    for i in range(len(node)):\n",
    "        currNode  = node[i]\n",
    "        hill10 = currNode[-3]\n",
    "        if sum(hill10[:3]) > 0 and sum(hill10[3:]) == 0:\n",
    "            gdStatistics10[key]+=1\n",
    "    gdStatistics10[key]/=1000"
   ]
  },
  {
   "cell_type": "code",
   "execution_count": 8,
   "metadata": {},
   "outputs": [
    {
     "name": "stdout",
     "output_type": "stream",
     "text": [
      "18:1 0.551\n",
      "16 0.695\n",
      "11 0.808\n",
      "14:1 0.781\n"
     ]
    }
   ],
   "source": [
    "outside = 0\n",
    "inside = 0\n",
    "for k in gdStatistics10:\n",
    "    if gdStatistics10[k] > 0.5:\n",
    "        print(k,gdStatistics10[k])\n",
    "        inside += gdStatistics10[k]\n",
    "    else:\n",
    "        outside += gdStatistics10[k]"
   ]
  },
  {
   "cell_type": "code",
   "execution_count": 9,
   "metadata": {},
   "outputs": [
    {
     "name": "stdout",
     "output_type": "stream",
     "text": [
      "0.5670000000000001 0.0666470588235294\n"
     ]
    }
   ],
   "source": [
    "print(inside/5, outside/34)"
   ]
  },
  {
   "cell_type": "code",
   "execution_count": 10,
   "metadata": {},
   "outputs": [],
   "source": [
    "# for each component compute the proportion of good design\n",
    "gdStatistics5 = dict()\n",
    "samples = 1000\n",
    "for node in ret:\n",
    "    key = node[0][0]\n",
    "    gdStatistics5[key] = 0\n",
    "    #print(key)\n",
    "    for i in range(len(node)):\n",
    "        currNode  = node[i]\n",
    "        hill5 = currNode[-4]\n",
    "        if sum(hill5[:3]) > 0 and sum(hill5[3:]) == 0:\n",
    "            gdStatistics5[key]+=1\n",
    "    gdStatistics5[key]/=1000"
   ]
  },
  {
   "cell_type": "code",
   "execution_count": 11,
   "metadata": {},
   "outputs": [
    {
     "name": "stdout",
     "output_type": "stream",
     "text": [
      "11 0.755\n"
     ]
    }
   ],
   "source": [
    "for k in gdStatistics5:\n",
    "    if gdStatistics5[k] > 0.5:\n",
    "        print(k,gdStatistics5[k])"
   ]
  },
  {
   "cell_type": "code",
   "execution_count": 12,
   "metadata": {},
   "outputs": [],
   "source": [
    "r =[x[-3] for x  in ret[-4]]"
   ]
  },
  {
   "cell_type": "code",
   "execution_count": 13,
   "metadata": {},
   "outputs": [
    {
     "name": "stdout",
     "output_type": "stream",
     "text": [
      "11 0.755\n"
     ]
    }
   ],
   "source": [
    "outside = 0\n",
    "inside = 0\n",
    "for k in gdStatistics5:\n",
    "    if gdStatistics5[k] > 0.5:\n",
    "        print(k,gdStatistics5[k])\n",
    "        inside += gdStatistics5[k]\n",
    "    else:\n",
    "        outside += gdStatistics5[k]"
   ]
  },
  {
   "cell_type": "code",
   "execution_count": 14,
   "metadata": {},
   "outputs": [
    {
     "name": "stdout",
     "output_type": "stream",
     "text": [
      "0.755 0.06849999999999999\n"
     ]
    }
   ],
   "source": [
    "print(inside/1, outside/38)"
   ]
  },
  {
   "cell_type": "code",
   "execution_count": 15,
   "metadata": {},
   "outputs": [],
   "source": [
    "d5 = dict()\n",
    "for i in range(len(ret)):\n",
    "    node = ret[i]\n",
    "    index = node[0][0]\n",
    "    hill = [tuple(x[1]) for x in node]\n",
    "    counter = Counter(hill)\n",
    "    d5[index] = counter.most_common()[0]"
   ]
  },
  {
   "cell_type": "code",
   "execution_count": 16,
   "metadata": {},
   "outputs": [],
   "source": [
    "keys = list(d5.keys())"
   ]
  },
  {
   "cell_type": "code",
   "execution_count": 17,
   "metadata": {},
   "outputs": [],
   "source": [
    "def order(x):\n",
    "    if ':' not in x:\n",
    "        return int(x)\n",
    "    else:\n",
    "        return int(x.split(':')[0])\n",
    "keys = sorted(keys, key= lambda x: order(x))"
   ]
  },
  {
   "cell_type": "code",
   "execution_count": 18,
   "metadata": {},
   "outputs": [],
   "source": [
    "for k in d5:\n",
    "    d5[k] = d5[k][0]"
   ]
  },
  {
   "cell_type": "code",
   "execution_count": 19,
   "metadata": {},
   "outputs": [],
   "source": [
    "d10 = dict()\n",
    "for i in range(len(ret)):\n",
    "    node = ret[i]\n",
    "    index = node[0][0]\n",
    "    hill = [tuple(x[2]) for x in node]\n",
    "    counter = Counter(hill)\n",
    "    d10[index] = counter.most_common()[0]"
   ]
  },
  {
   "cell_type": "code",
   "execution_count": 20,
   "metadata": {},
   "outputs": [
    {
     "data": {
      "text/plain": [
       "((0, 0, 0, 0, 0, 1), 995)"
      ]
     },
     "execution_count": 20,
     "metadata": {},
     "output_type": "execute_result"
    }
   ],
   "source": [
    "d10['1']"
   ]
  },
  {
   "cell_type": "code",
   "execution_count": 21,
   "metadata": {},
   "outputs": [],
   "source": [
    "for k in d10:\n",
    "    d10[k] = d10[k][0]"
   ]
  },
  {
   "cell_type": "code",
   "execution_count": 22,
   "metadata": {},
   "outputs": [],
   "source": [
    "d20 = dict()\n",
    "for i in range(len(ret)):\n",
    "    node = ret[i]\n",
    "    index = node[0][0]\n",
    "    hill = [tuple(x[3]) for x in node]\n",
    "    counter = Counter(hill)\n",
    "    d20[index] = counter.most_common()[0]"
   ]
  },
  {
   "cell_type": "code",
   "execution_count": 23,
   "metadata": {},
   "outputs": [
    {
     "data": {
      "text/plain": [
       "((0, 0, 0, 0, 0, 1), 997)"
      ]
     },
     "execution_count": 23,
     "metadata": {},
     "output_type": "execute_result"
    }
   ],
   "source": [
    "d20['1']"
   ]
  },
  {
   "cell_type": "code",
   "execution_count": 24,
   "metadata": {},
   "outputs": [],
   "source": [
    "for k in d20:\n",
    "    d20[k] = d20[k][0]"
   ]
  },
  {
   "cell_type": "code",
   "execution_count": 25,
   "metadata": {},
   "outputs": [],
   "source": [
    "dInf = dict()\n",
    "for i in range(len(ret)):\n",
    "    node = ret[i]\n",
    "    index = node[0][0]\n",
    "    hill = [tuple(x[4]) for x in node]\n",
    "    counter = Counter(hill)\n",
    "    dInf[index] = counter.most_common()[0]"
   ]
  },
  {
   "cell_type": "code",
   "execution_count": 26,
   "metadata": {},
   "outputs": [],
   "source": [
    "for k in dInf:\n",
    "    dInf[k] = dInf[k][0]"
   ]
  },
  {
   "cell_type": "code",
   "execution_count": 27,
   "metadata": {},
   "outputs": [],
   "source": [
    "d = [d5,d10,d20,dInf]\n",
    "with open('portraits.json','w') as file:\n",
    "    json.dump(d, file)"
   ]
  },
  {
   "cell_type": "code",
   "execution_count": 27,
   "metadata": {},
   "outputs": [],
   "source": [
    "ds20, ds10, ds5= dict(), dict(), dict()\n",
    "\n",
    "for k in gdStatistics20:\n",
    "    if gdStatistics20[k] > 0.5:\n",
    "        ds20[k] = gdStatistics20[k]\n",
    "\n",
    "for k in gdStatistics10:\n",
    "    if gdStatistics10[k] > 0.5:\n",
    "        ds10[k] = gdStatistics10[k]\n",
    "\n",
    "for k in gdStatistics5:\n",
    "    if gdStatistics5[k] > 0.5:\n",
    "        ds5[k] = gdStatistics5[k]"
   ]
  },
  {
   "cell_type": "markdown",
   "metadata": {},
   "source": [
    "goodDesignStatistics = dict()\n",
    "ds20 = {'7': 0.746,\n",
    "'16': 0.6,\n",
    "'17:1': 0.527,\n",
    "'18:1': 0.654,\n",
    "'9:1': 0.538,\n",
    "'14:1': 0.655,\n",
    "'11': 0.583}\n",
    "ds10 = {'7':0.551,\n",
    "'16': 0.723,\n",
    "'18:1': 0.545,\n",
    "'14:1': 0.785,\n",
    "'11': 0.792,}\n",
    "ds5 = {'11' :0.729}"
   ]
  },
  {
   "cell_type": "code",
   "execution_count": 28,
   "metadata": {},
   "outputs": [],
   "source": [
    "ds = [ds5,ds10,ds20]"
   ]
  },
  {
   "cell_type": "code",
   "execution_count": 29,
   "metadata": {},
   "outputs": [
    {
     "data": {
      "text/plain": [
       "[{'11': 0.755},\n",
       " {'18:1': 0.551, '16': 0.695, '11': 0.808, '14:1': 0.781},\n",
       " {'7': 0.518, '18:1': 0.681, '16': 0.592, '11': 0.618, '14:1': 0.653}]"
      ]
     },
     "execution_count": 29,
     "metadata": {},
     "output_type": "execute_result"
    }
   ],
   "source": [
    "ds"
   ]
  },
  {
   "cell_type": "code",
   "execution_count": 30,
   "metadata": {},
   "outputs": [],
   "source": [
    "with open('goodDesignStatistics.json','w') as file:\n",
    "    json.dump(ds,file)"
   ]
  },
  {
   "cell_type": "code",
   "execution_count": 31,
   "metadata": {},
   "outputs": [],
   "source": [
    "with open('goodDesignStatistics.json','r') as file:\n",
    "    temp = json.load(file)"
   ]
  },
  {
   "cell_type": "code",
   "execution_count": 32,
   "metadata": {},
   "outputs": [
    {
     "data": {
      "text/plain": [
       "[{'11': 0.755},\n",
       " {'18:1': 0.551, '16': 0.695, '11': 0.808, '14:1': 0.781},\n",
       " {'7': 0.518, '18:1': 0.681, '16': 0.592, '11': 0.618, '14:1': 0.653}]"
      ]
     },
     "execution_count": 32,
     "metadata": {},
     "output_type": "execute_result"
    }
   ],
   "source": [
    "temp"
   ]
  },
  {
   "cell_type": "code",
   "execution_count": 33,
   "metadata": {},
   "outputs": [
    {
     "data": {
      "text/plain": [
       "{'11': 0.755}"
      ]
     },
     "execution_count": 33,
     "metadata": {},
     "output_type": "execute_result"
    }
   ],
   "source": [
    "ds5"
   ]
  },
  {
   "cell_type": "code",
   "execution_count": 34,
   "metadata": {},
   "outputs": [],
   "source": [
    "completeGDDict = dict()\n",
    "for key in gdStatistics10.keys():\n",
    "    val1, val2, val3 = gdStatistics5[key],gdStatistics10[key],gdStatistics20[key]\n",
    "    completeGDDict[key] = [val1,val2,val3]\n",
    "    "
   ]
  },
  {
   "cell_type": "code",
   "execution_count": 35,
   "metadata": {},
   "outputs": [],
   "source": [
    "keys = gdStatistics10.keys()\n",
    "def key(x):\n",
    "    if ':' in x:\n",
    "        s1, s2 = x.split(':')\n",
    "    else:\n",
    "        s1, s2 = x, '0'\n",
    "    return float(s1) + float(s2)/10\n",
    "keys = sorted(keys,key= key)"
   ]
  },
  {
   "cell_type": "code",
   "execution_count": 36,
   "metadata": {},
   "outputs": [
    {
     "name": "stdout",
     "output_type": "stream",
     "text": [
      "1 [0.0, 0.0, 0.0]\n",
      "2 [0.0, 0.0, 0.0]\n",
      "3 [0.0, 0.0, 0.0]\n",
      "4:1 [0.0, 0.0, 0.0]\n",
      "4:2 [0.0, 0.0, 0.0]\n",
      "4:3 [0.0, 0.0, 0.0]\n",
      "5:1 [0.0, 0.0, 0.0]\n",
      "5:2 [0.0, 0.0, 0.0]\n",
      "6 [0.031, 0.125, 0.199]\n",
      "7 [0.084, 0.369, 0.518]\n",
      "8:1 [0.008, 0.044, 0.094]\n",
      "8:2 [0.0, 0.0, 0.0]\n",
      "9:1 [0.027, 0.175, 0.226]\n",
      "9:2 [0.0, 0.0, 0.0]\n",
      "10:1 [0.0, 0.0, 0.001]\n",
      "10:2 [0.165, 0.172, 0.126]\n",
      "11 [0.755, 0.808, 0.618]\n",
      "12 [0.022, 0.0, 0.0]\n",
      "13:1 [0.001, 0.0, 0.0]\n",
      "13:2 [0.359, 0.281, 0.089]\n",
      "13:3 [0.0, 0.0, 0.0]\n",
      "13:4 [0.017, 0.005, 0.0]\n",
      "14:1 [0.47, 0.781, 0.653]\n",
      "14:2 [0.025, 0.0, 0.0]\n",
      "15 [0.074, 0.188, 0.17]\n",
      "16 [0.374, 0.695, 0.592]\n",
      "17:1 [0.027, 0.124, 0.144]\n",
      "17:2 [0.0, 0.0, 0.0]\n",
      "18:1 [0.131, 0.551, 0.681]\n",
      "18:2 [0.0, 0.0, 0.0]\n",
      "19 [0.0, 0.0, 0.0]\n",
      "20 [0.001, 0.0, 0.0]\n",
      "21 [0.001, 0.0, 0.0]\n",
      "22 [0.003, 0.002, 0.0]\n",
      "23:1 [0.0, 0.0, 0.0]\n",
      "23:2 [0.289, 0.275, 0.067]\n",
      "24 [0.353, 0.237, 0.069]\n",
      "25 [0.029, 0.098, 0.046]\n",
      "26 [0.112, 0.171, 0.07]\n"
     ]
    }
   ],
   "source": [
    "for k in keys:\n",
    "    print(k, completeGDDict[k])"
   ]
  },
  {
   "cell_type": "code",
   "execution_count": 37,
   "metadata": {},
   "outputs": [],
   "source": [
    "s = []\n",
    "for key in keys:\n",
    "    vals = list(map(lambda x: str(x), completeGDDict[key]))\n",
    "    temp = '&'.join([key]+vals)\n",
    "    s.append(temp+'\\\\\\ \\hline')"
   ]
  },
  {
   "cell_type": "code",
   "execution_count": 38,
   "metadata": {
    "scrolled": true
   },
   "outputs": [
    {
     "name": "stdout",
     "output_type": "stream",
     "text": [
      "1&0.0&0.0&0.0\\\\ \\hline\n",
      "2&0.0&0.0&0.0\\\\ \\hline\n",
      "3&0.0&0.0&0.0\\\\ \\hline\n",
      "4:1&0.0&0.0&0.0\\\\ \\hline\n",
      "4:2&0.0&0.0&0.0\\\\ \\hline\n",
      "4:3&0.0&0.0&0.0\\\\ \\hline\n",
      "5:1&0.0&0.0&0.0\\\\ \\hline\n",
      "5:2&0.0&0.0&0.0\\\\ \\hline\n",
      "6&0.031&0.125&0.199\\\\ \\hline\n",
      "7&0.084&0.369&0.518\\\\ \\hline\n",
      "8:1&0.008&0.044&0.094\\\\ \\hline\n",
      "8:2&0.0&0.0&0.0\\\\ \\hline\n",
      "9:1&0.027&0.175&0.226\\\\ \\hline\n",
      "9:2&0.0&0.0&0.0\\\\ \\hline\n",
      "10:1&0.0&0.0&0.001\\\\ \\hline\n",
      "10:2&0.165&0.172&0.126\\\\ \\hline\n",
      "11&0.755&0.808&0.618\\\\ \\hline\n",
      "12&0.022&0.0&0.0\\\\ \\hline\n",
      "13:1&0.001&0.0&0.0\\\\ \\hline\n",
      "13:2&0.359&0.281&0.089\\\\ \\hline\n",
      "13:3&0.0&0.0&0.0\\\\ \\hline\n",
      "13:4&0.017&0.005&0.0\\\\ \\hline\n",
      "14:1&0.47&0.781&0.653\\\\ \\hline\n",
      "14:2&0.025&0.0&0.0\\\\ \\hline\n",
      "15&0.074&0.188&0.17\\\\ \\hline\n",
      "16&0.374&0.695&0.592\\\\ \\hline\n",
      "17:1&0.027&0.124&0.144\\\\ \\hline\n",
      "17:2&0.0&0.0&0.0\\\\ \\hline\n",
      "18:1&0.131&0.551&0.681\\\\ \\hline\n",
      "18:2&0.0&0.0&0.0\\\\ \\hline\n",
      "19&0.0&0.0&0.0\\\\ \\hline\n",
      "20&0.001&0.0&0.0\\\\ \\hline\n",
      "21&0.001&0.0&0.0\\\\ \\hline\n",
      "22&0.003&0.002&0.0\\\\ \\hline\n",
      "23:1&0.0&0.0&0.0\\\\ \\hline\n",
      "23:2&0.289&0.275&0.067\\\\ \\hline\n",
      "24&0.353&0.237&0.069\\\\ \\hline\n",
      "25&0.029&0.098&0.046\\\\ \\hline\n",
      "26&0.112&0.171&0.07\\\\ \\hline\n"
     ]
    }
   ],
   "source": [
    "for i in s:\n",
    "    print(i)"
   ]
  },
  {
   "cell_type": "code",
   "execution_count": 40,
   "metadata": {},
   "outputs": [],
   "source": [
    "def outProportion(key,d):\n",
    "    values = 0\n",
    "    for k in d:\n",
    "        if k!=key:\n",
    "            values+=d[k]\n",
    "    return values/len(d)"
   ]
  },
  {
   "cell_type": "code",
   "execution_count": 41,
   "metadata": {},
   "outputs": [],
   "source": [
    "outStatistics5 = dict()\n",
    "for key in gdStatistics5:\n",
    "    outStatistics5[key] = outProportion(key,gdStatistics5)"
   ]
  },
  {
   "cell_type": "code",
   "execution_count": 42,
   "metadata": {},
   "outputs": [],
   "source": [
    "outStatistics10 = dict()\n",
    "for key in gdStatistics10:\n",
    "    outStatistics10[key] = outProportion(key,gdStatistics10)"
   ]
  },
  {
   "cell_type": "code",
   "execution_count": 43,
   "metadata": {},
   "outputs": [],
   "source": [
    "outStatistics20 = dict()\n",
    "for key in gdStatistics20:\n",
    "    outStatistics20[key] = outProportion(key,gdStatistics20)"
   ]
  },
  {
   "cell_type": "code",
   "execution_count": 44,
   "metadata": {},
   "outputs": [
    {
     "data": {
      "text/plain": [
       "{'1': 0.08610256410256409,\n",
       " '5:2': 0.08610256410256409,\n",
       " '3': 0.08610256410256409,\n",
       " '20': 0.08607692307692306,\n",
       " '22': 0.08602564102564102,\n",
       " '2': 0.08610256410256409,\n",
       " '25': 0.08535897435897435,\n",
       " '8:1': 0.08589743589743588,\n",
       " '6': 0.0853076923076923,\n",
       " '4:1': 0.08610256410256409,\n",
       " '7': 0.08394871794871793,\n",
       " '12': 0.08553846153846152,\n",
       " '24': 0.07705128205128205,\n",
       " '5:1': 0.08610256410256409,\n",
       " '17:1': 0.0854102564102564,\n",
       " '26': 0.08323076923076922,\n",
       " '13:1': 0.08607692307692306,\n",
       " '14:2': 0.08546153846153845,\n",
       " '13:2': 0.07689743589743589,\n",
       " '15': 0.0842051282051282,\n",
       " '18:1': 0.08274358974358972,\n",
       " '8:2': 0.08610256410256409,\n",
       " '9:1': 0.0854102564102564,\n",
       " '13:4': 0.08566666666666667,\n",
       " '23:1': 0.08610256410256409,\n",
       " '23:2': 0.07869230769230769,\n",
       " '16': 0.07651282051282052,\n",
       " '17:2': 0.08610256410256409,\n",
       " '11': 0.06674358974358974,\n",
       " '4:3': 0.08610256410256409,\n",
       " '10:2': 0.08187179487179486,\n",
       " '10:1': 0.08610256410256409,\n",
       " '13:3': 0.08610256410256409,\n",
       " '18:2': 0.08610256410256409,\n",
       " '19': 0.08610256410256409,\n",
       " '9:2': 0.08610256410256409,\n",
       " '21': 0.08607692307692308,\n",
       " '4:2': 0.08610256410256409,\n",
       " '14:1': 0.07405128205128204}"
      ]
     },
     "execution_count": 44,
     "metadata": {},
     "output_type": "execute_result"
    }
   ],
   "source": [
    "outStatistics5"
   ]
  },
  {
   "cell_type": "code",
   "execution_count": 45,
   "metadata": {},
   "outputs": [
    {
     "data": {
      "text/plain": [
       "{'1': 0.0,\n",
       " '5:2': 0.0,\n",
       " '3': 0.0,\n",
       " '20': 0.0,\n",
       " '22': 0.0,\n",
       " '2': 0.0,\n",
       " '25': 0.046,\n",
       " '8:1': 0.094,\n",
       " '6': 0.199,\n",
       " '4:1': 0.0,\n",
       " '7': 0.518,\n",
       " '12': 0.0,\n",
       " '24': 0.069,\n",
       " '5:1': 0.0,\n",
       " '17:1': 0.144,\n",
       " '26': 0.07,\n",
       " '13:1': 0.0,\n",
       " '14:2': 0.0,\n",
       " '13:2': 0.089,\n",
       " '15': 0.17,\n",
       " '18:1': 0.681,\n",
       " '8:2': 0.0,\n",
       " '9:1': 0.226,\n",
       " '13:4': 0.0,\n",
       " '23:1': 0.0,\n",
       " '23:2': 0.067,\n",
       " '16': 0.592,\n",
       " '17:2': 0.0,\n",
       " '11': 0.618,\n",
       " '4:3': 0.0,\n",
       " '10:2': 0.126,\n",
       " '10:1': 0.001,\n",
       " '13:3': 0.0,\n",
       " '18:2': 0.0,\n",
       " '19': 0.0,\n",
       " '9:2': 0.0,\n",
       " '21': 0.0,\n",
       " '4:2': 0.0,\n",
       " '14:1': 0.653}"
      ]
     },
     "execution_count": 45,
     "metadata": {},
     "output_type": "execute_result"
    }
   ],
   "source": [
    "gdStatistics20"
   ]
  },
  {
   "cell_type": "code",
   "execution_count": 46,
   "metadata": {},
   "outputs": [
    {
     "data": {
      "text/plain": [
       "'/Users/lunzhang/Desktop/datapool/OrbModel/goodDesign21'"
      ]
     },
     "execution_count": 46,
     "metadata": {},
     "output_type": "execute_result"
    }
   ],
   "source": [
    "pwd"
   ]
  },
  {
   "cell_type": "code",
   "execution_count": 47,
   "metadata": {},
   "outputs": [
    {
     "name": "stdout",
     "output_type": "stream",
     "text": [
      "0 ['1', [0, 0, 0, 0, 0, 1], [0, 0, 0, 0, 0, 1], [0, 0, 0, 0, 0, 1], [0, 0, 0, 0, 0, 1]]\n",
      "1 ['5:2', [0, 0, 0, 1, 0, 0], [0, 0, 0, 1, 0, 0], [0, 0, 0, 1, 0, 0], [0, 0, 0, 1, 1, 0]]\n",
      "2 ['3', [0, 0, 0, 1, 0, 0], [0, 0, 0, 1, 0, 0], [0, 0, 0, 1, 0, 0], [0, 0, 0, 1, 0, 0]]\n",
      "3 ['20', [0, 0, 0, 1, 0, 0], [0, 0, 0, 1, 1, 0], [0, 0, 0, 1, 1, 0], [1, 0, 0, 1, 1, 0]]\n",
      "4 ['22', [0, 0, 0, 1, 1, 0], [0, 0, 0, 1, 1, 0], [0, 0, 0, 1, 1, 0], [1, 0, 1, 1, 1, 0]]\n",
      "5 ['2', [0, 0, 0, 0, 1, 0], [0, 0, 0, 0, 1, 0], [0, 0, 0, 0, 1, 0], [0, 0, 0, 0, 1, 0]]\n",
      "6 ['25', [0, 1, 0, 0, 0, 0], [0, 1, 0, 1, 0, 0], [0, 1, 0, 1, 0, 0], [1, 1, 1, 1, 0, 1]]\n",
      "7 ['8:1', [0, 0, 0, 0, 0, 1], [0, 0, 0, 0, 0, 1], [0, 0, 0, 0, 0, 1], [0, 0, 1, 1, 0, 1]]\n",
      "8 ['6', [0, 0, 0, 0, 0, 1], [0, 0, 0, 0, 0, 1], [0, 0, 0, 0, 0, 1], [0, 0, 1, 0, 0, 1]]\n",
      "9 ['4:1', [0, 0, 0, 0, 1, 0], [0, 0, 0, 0, 0, 1], [0, 0, 0, 1, 0, 1], [0, 0, 0, 1, 0, 1]]\n",
      "10 ['7', [0, 0, 0, 0, 1, 0], [0, 0, 0, 0, 1, 0], [0, 0, 0, 0, 1, 0], [0, 0, 1, 0, 1, 0]]\n",
      "11 ['12', [0, 0, 0, 1, 0, 0], [0, 1, 0, 1, 0, 0], [0, 1, 0, 1, 0, 0], [0, 1, 0, 1, 0, 0]]\n",
      "12 ['24', [0, 1, 0, 1, 0, 0], [0, 1, 0, 1, 0, 0], [1, 1, 0, 1, 1, 0], [1, 1, 0, 1, 1, 0]]\n",
      "13 ['5:1', [0, 0, 0, 0, 1, 0], [0, 0, 0, 0, 1, 0], [0, 0, 0, 0, 1, 0], [0, 0, 0, 1, 1, 0]]\n",
      "14 ['17:1', [0, 0, 0, 0, 1, 0], [0, 0, 0, 0, 0, 1], [0, 1, 0, 1, 0, 1], [0, 1, 1, 1, 0, 1]]\n",
      "15 ['26', [0, 0, 1, 0, 0, 0], [0, 1, 0, 0, 0, 0], [0, 1, 0, 1, 0, 0], [1, 1, 1, 1, 1, 0]]\n",
      "16 ['13:1', [0, 0, 0, 0, 0, 1], [0, 1, 0, 0, 0, 1], [0, 1, 0, 0, 0, 1], [0, 1, 0, 1, 0, 1]]\n",
      "17 ['14:2', [0, 0, 0, 1, 0, 0], [0, 0, 0, 1, 0, 0], [0, 0, 0, 1, 0, 0], [0, 1, 0, 1, 1, 0]]\n",
      "18 ['13:2', [0, 0, 0, 0, 0, 1], [0, 1, 0, 0, 0, 1], [0, 1, 0, 0, 0, 1], [0, 1, 0, 1, 0, 1]]\n",
      "19 ['15', [0, 0, 0, 0, 0, 1], [0, 1, 0, 0, 0, 1], [0, 1, 0, 0, 0, 1], [0, 1, 1, 0, 0, 1]]\n",
      "20 ['18:1', [0, 0, 0, 0, 1, 0], [0, 0, 0, 0, 2, 0], [0, 0, 1, 0, 1, 0], [0, 1, 1, 1, 1, 0]]\n",
      "21 ['8:2', [0, 0, 0, 1, 0, 0], [0, 0, 0, 1, 0, 0], [0, 0, 0, 1, 0, 0], [0, 0, 1, 1, 0, 1]]\n",
      "22 ['9:1', [0, 0, 0, 0, 1, 0], [0, 0, 1, 1, 0, 0], [0, 0, 1, 1, 0, 0], [0, 0, 1, 1, 1, 0]]\n",
      "23 ['13:4', [0, 0, 0, 1, 0, 0], [0, 0, 0, 1, 0, 0], [0, 0, 0, 1, 0, 0], [0, 1, 0, 1, 0, 1]]\n",
      "24 ['23:1', [0, 0, 0, 0, 1, 0], [0, 0, 0, 0, 0, 1], [0, 0, 0, 1, 0, 1], [1, 1, 0, 1, 0, 1]]\n",
      "25 ['23:2', [0, 0, 0, 1, 0, 0], [0, 1, 0, 1, 0, 0], [0, 1, 0, 1, 0, 0], [1, 1, 0, 1, 0, 1]]\n",
      "26 ['16', [0, 0, 0, 0, 1, 0], [0, 0, 0, 0, 1, 0], [0, 0, 0, 0, 1, 0], [0, 1, 1, 0, 1, 0]]\n",
      "27 ['17:2', [0, 0, 0, 1, 0, 0], [0, 0, 0, 1, 0, 0], [0, 1, 0, 1, 0, 1], [0, 1, 1, 1, 0, 1]]\n",
      "28 ['11', [0, 1, 0, 0, 0, 0], [0, 1, 0, 0, 0, 0], [0, 1, 0, 0, 0, 0], [0, 1, 0, 0, 1, 0]]\n",
      "29 ['4:3', [0, 0, 0, 1, 0, 0], [0, 0, 0, 1, 0, 1], [0, 0, 0, 1, 0, 1], [0, 0, 0, 1, 0, 1]]\n",
      "30 ['10:2', [0, 0, 0, 0, 0, 1], [0, 1, 0, 0, 0, 1], [0, 1, 0, 0, 0, 1], [0, 1, 0, 0, 0, 1]]\n",
      "31 ['10:1', [0, 0, 0, 0, 0, 1], [0, 0, 0, 0, 0, 1], [0, 0, 0, 0, 0, 1], [0, 1, 0, 0, 0, 1]]\n",
      "32 ['13:3', [0, 0, 0, 1, 0, 0], [0, 0, 0, 1, 0, 0], [0, 0, 0, 1, 0, 0], [0, 1, 0, 1, 0, 1]]\n",
      "33 ['18:2', [0, 0, 0, 1, 0, 0], [0, 0, 0, 1, 1, 0], [0, 0, 1, 1, 0, 0], [0, 1, 1, 1, 1, 0]]\n",
      "34 ['19', [0, 0, 0, 1, 0, 1], [0, 0, 0, 1, 0, 1], [0, 0, 0, 1, 0, 1], [1, 0, 0, 1, 0, 1]]\n",
      "35 ['9:2', [0, 0, 0, 1, 0, 0], [0, 0, 0, 1, 0, 0], [0, 0, 0, 1, 1, 0], [0, 0, 1, 1, 1, 0]]\n",
      "36 ['21', [0, 0, 0, 1, 1, 0], [0, 0, 1, 1, 0, 0], [1, 0, 1, 1, 0, 0], [1, 0, 1, 1, 0, 1]]\n",
      "37 ['4:2', [0, 0, 0, 1, 0, 0], [0, 0, 0, 1, 0, 0], [0, 0, 0, 1, 0, 0], [0, 0, 0, 1, 0, 1]]\n",
      "38 ['14:1', [0, 0, 0, 0, 1, 0], [0, 1, 0, 0, 0, 0], [0, 1, 0, 0, 0, 0], [0, 1, 0, 1, 1, 0]]\n"
     ]
    },
    {
     "ename": "IndexError",
     "evalue": "list index out of range",
     "output_type": "error",
     "traceback": [
      "\u001b[0;31m---------------------------------------------------------------------------\u001b[0m",
      "\u001b[0;31mIndexError\u001b[0m                                Traceback (most recent call last)",
      "\u001b[0;32m<ipython-input-47-5c3938f0deff>\u001b[0m in \u001b[0;36m<module>\u001b[0;34m\u001b[0m\n\u001b[1;32m      1\u001b[0m \u001b[0;32mfor\u001b[0m \u001b[0mi\u001b[0m \u001b[0;32min\u001b[0m \u001b[0mrange\u001b[0m\u001b[0;34m(\u001b[0m\u001b[0;36m40\u001b[0m\u001b[0;34m)\u001b[0m\u001b[0;34m:\u001b[0m\u001b[0;34m\u001b[0m\u001b[0;34m\u001b[0m\u001b[0m\n\u001b[0;32m----> 2\u001b[0;31m     \u001b[0mprint\u001b[0m\u001b[0;34m(\u001b[0m\u001b[0mi\u001b[0m\u001b[0;34m,\u001b[0m\u001b[0mret\u001b[0m\u001b[0;34m[\u001b[0m\u001b[0mi\u001b[0m\u001b[0;34m]\u001b[0m\u001b[0;34m[\u001b[0m\u001b[0;36m0\u001b[0m\u001b[0;34m]\u001b[0m\u001b[0;34m)\u001b[0m\u001b[0;34m\u001b[0m\u001b[0;34m\u001b[0m\u001b[0m\n\u001b[0m",
      "\u001b[0;31mIndexError\u001b[0m: list index out of range"
     ]
    }
   ],
   "source": [
    "for i in range(40):\n",
    "    print(i,ret[i][0])"
   ]
  },
  {
   "cell_type": "code",
   "execution_count": 51,
   "metadata": {},
   "outputs": [],
   "source": [
    "from collections import Counter"
   ]
  },
  {
   "cell_type": "code",
   "execution_count": 87,
   "metadata": {},
   "outputs": [],
   "source": [
    "def getDominantPortrait(portraitList):\n",
    "    ret = []\n",
    "    index = portraitList[0][0]\n",
    "    ret.append(index)\n",
    "    for i in range(1,4):\n",
    "        l = [tuple(t[i]) for t in portraitList]\n",
    "        portrait, numbers = Counter(l).most_common()[0][0], Counter(l).most_common()[0][1]\n",
    "        ret.append(portrait)\n",
    "    \n",
    "    return ret"
   ]
  },
  {
   "cell_type": "code",
   "execution_count": 94,
   "metadata": {},
   "outputs": [],
   "source": [
    "portraitList = ret[18]\n",
    "l = [tuple(t[1]) for t in portraitList]\n",
    "c = Counter(l)"
   ]
  },
  {
   "cell_type": "code",
   "execution_count": 96,
   "metadata": {},
   "outputs": [
    {
     "data": {
      "text/plain": [
       "Counter({(0, 0, 0, 0, 0, 1): 221,\n",
       "         (0, 1, 0, 0, 0, 1): 138,\n",
       "         (0, 0, 0, 1, 0, 0): 53,\n",
       "         (0, 1, 0, 0, 0, 0): 352,\n",
       "         (0, 1, 0, 1, 0, 0): 118,\n",
       "         (0, 1, 0, 1, 0, 1): 60,\n",
       "         (0, 0, 0, 0, 1, 0): 40,\n",
       "         (0, 0, 0, 0, 0, 3): 2,\n",
       "         (0, 0, 0, 0, 0, 2): 1,\n",
       "         (0, 2, 0, 1, 0, 1): 1,\n",
       "         (0, 0, 1, 0, 0, 0): 5,\n",
       "         (1, 0, 0, 0, 0, 0): 1,\n",
       "         (0, 1, 0, 0, 0, 2): 4,\n",
       "         (0, 0, 0, 0, 0, 4): 1,\n",
       "         (1, 0, 0, 1, 0, 0): 1,\n",
       "         (0, 2, 0, 0, 0, 0): 1,\n",
       "         (0, 2, 0, 0, 0, 1): 1})"
      ]
     },
     "execution_count": 96,
     "metadata": {},
     "output_type": "execute_result"
    }
   ],
   "source": [
    "c"
   ]
  },
  {
   "cell_type": "code",
   "execution_count": 89,
   "metadata": {},
   "outputs": [
    {
     "name": "stdout",
     "output_type": "stream",
     "text": [
      "1 997\n",
      "5:2 822\n",
      "3 1000\n",
      "20 627\n",
      "22 544\n",
      "2 1000\n",
      "25 270\n",
      "8:1 398\n",
      "6 601\n",
      "4:1 605\n",
      "7 518\n",
      "12 710\n",
      "24 490\n",
      "5:1 586\n",
      "17:1 227\n",
      "26 229\n",
      "13:1 415\n",
      "14:2 547\n",
      "13:2 418\n",
      "15 290\n",
      "18:1 458\n",
      "8:2 575\n",
      "9:1 311\n",
      "13:4 604\n",
      "23:1 844\n",
      "23:2 729\n",
      "16 330\n",
      "17:2 480\n",
      "11 616\n",
      "4:3 773\n",
      "10:2 856\n",
      "10:1 859\n",
      "13:3 618\n",
      "18:2 699\n",
      "19 994\n",
      "9:2 551\n",
      "21 672\n",
      "4:2 999\n",
      "14:1 643\n"
     ]
    }
   ],
   "source": [
    "l = []\n",
    "for i in range(len(ret)):\n",
    "    portraitList = ret[i]\n",
    "    dominants = getDominantPortrait(portraitList)\n",
    "    l.append(dominants)"
   ]
  },
  {
   "cell_type": "code",
   "execution_count": 70,
   "metadata": {},
   "outputs": [],
   "source": [
    "d = dict()\n",
    "for k in l:\n",
    "    d[k[0]] = k[1:]"
   ]
  },
  {
   "cell_type": "code",
   "execution_count": 77,
   "metadata": {},
   "outputs": [],
   "source": [
    "def comp(a):\n",
    "    if ':' in a:\n",
    "        sa = a.split(':')\n",
    "        sa = [int(x) for x in sa]\n",
    "    else:\n",
    "        sa = [int(a), 0]\n",
    "        \n",
    "    #if ':' in b:\n",
    "    #    sb = b.split(':')\n",
    "    #else:\n",
    "    #    sb = [b, '0']\n",
    "        \n",
    "    return sa\n",
    "\n",
    "sortedPortrait = sorted(d.keys(),key = comp)"
   ]
  },
  {
   "cell_type": "code",
   "execution_count": 79,
   "metadata": {},
   "outputs": [],
   "source": [
    "dsorted = dict()\n",
    "for k in sortedPortrait:\n",
    "    dsorted[k] = d[k]"
   ]
  },
  {
   "cell_type": "code",
   "execution_count": 84,
   "metadata": {},
   "outputs": [
    {
     "data": {
      "text/plain": [
       "{'1': [(0, 0, 0, 0, 0, 1), (0, 0, 0, 0, 0, 1), (0, 0, 0, 0, 0, 1)],\n",
       " '2': [(0, 0, 0, 0, 1, 0), (0, 0, 0, 0, 1, 0), (0, 0, 0, 0, 1, 0)],\n",
       " '3': [(0, 0, 0, 1, 0, 0), (0, 0, 0, 1, 0, 0), (0, 0, 0, 1, 0, 0)],\n",
       " '4:1': [(0, 0, 0, 0, 0, 1), (0, 0, 0, 0, 0, 1), (0, 0, 0, 1, 0, 1)],\n",
       " '4:2': [(0, 0, 0, 1, 0, 0), (0, 0, 0, 1, 0, 0), (0, 0, 0, 1, 0, 0)],\n",
       " '4:3': [(0, 0, 0, 1, 0, 0), (0, 0, 0, 1, 0, 0), (0, 0, 0, 1, 0, 1)],\n",
       " '5:1': [(0, 0, 0, 0, 1, 0), (0, 0, 0, 0, 1, 0), (0, 0, 0, 0, 1, 0)],\n",
       " '5:2': [(0, 0, 0, 1, 0, 0), (0, 0, 0, 1, 0, 0), (0, 0, 0, 1, 0, 0)],\n",
       " '6': [(0, 0, 0, 0, 0, 1), (0, 0, 0, 0, 0, 1), (0, 0, 0, 0, 0, 1)],\n",
       " '7': [(0, 0, 0, 0, 1, 0), (0, 0, 0, 0, 1, 0), (0, 0, 1, 0, 0, 0)],\n",
       " '8:1': [(0, 0, 0, 0, 0, 1), (0, 0, 0, 0, 0, 1), (0, 0, 0, 0, 0, 1)],\n",
       " '8:2': [(0, 0, 0, 1, 0, 0), (0, 0, 0, 1, 0, 0), (0, 0, 0, 1, 0, 0)],\n",
       " '9:1': [(0, 0, 0, 0, 1, 0), (0, 0, 0, 0, 1, 0), (0, 0, 0, 0, 1, 0)],\n",
       " '9:2': [(0, 0, 0, 1, 0, 0), (0, 0, 0, 1, 0, 0), (0, 0, 0, 1, 0, 0)],\n",
       " '10:1': [(0, 0, 0, 0, 0, 1), (0, 0, 0, 0, 0, 1), (0, 0, 0, 0, 0, 1)],\n",
       " '10:2': [(0, 0, 0, 0, 0, 1), (0, 1, 0, 0, 0, 1), (0, 1, 0, 0, 0, 1)],\n",
       " '11': [(0, 1, 0, 0, 0, 0), (0, 1, 0, 0, 0, 0), (0, 1, 0, 0, 0, 0)],\n",
       " '12': [(0, 0, 0, 1, 0, 0), (0, 0, 0, 1, 0, 0), (0, 0, 0, 1, 0, 0)],\n",
       " '13:1': [(0, 0, 0, 0, 0, 1), (0, 0, 0, 0, 0, 1), (0, 0, 0, 1, 0, 1)],\n",
       " '13:2': [(0, 1, 0, 0, 0, 0), (0, 1, 0, 0, 0, 1), (0, 1, 0, 1, 0, 1)],\n",
       " '13:3': [(0, 0, 0, 1, 0, 0), (0, 0, 0, 1, 0, 0), (0, 0, 0, 1, 0, 1)],\n",
       " '13:4': [(0, 0, 0, 1, 0, 0), (0, 0, 0, 1, 0, 0), (0, 1, 0, 1, 0, 0)],\n",
       " '14:1': [(0, 0, 0, 0, 1, 0), (0, 1, 0, 0, 0, 0), (0, 1, 0, 0, 0, 0)],\n",
       " '14:2': [(0, 0, 0, 1, 0, 0), (0, 0, 0, 1, 0, 0), (0, 0, 0, 1, 0, 0)],\n",
       " '15': [(0, 0, 0, 0, 0, 1), (0, 0, 0, 0, 0, 1), (0, 1, 0, 0, 0, 1)],\n",
       " '16': [(0, 0, 0, 0, 1, 0), (0, 0, 1, 0, 0, 0), (0, 0, 1, 0, 0, 0)],\n",
       " '17:1': [(0, 0, 0, 0, 0, 1), (0, 0, 0, 0, 0, 1), (0, 1, 0, 1, 0, 1)],\n",
       " '17:2': [(0, 0, 0, 1, 0, 0), (0, 0, 0, 1, 0, 0), (0, 0, 0, 1, 0, 0)],\n",
       " '18:1': [(0, 0, 0, 0, 1, 0), (0, 0, 1, 0, 0, 0), (0, 0, 1, 0, 0, 0)],\n",
       " '18:2': [(0, 0, 0, 1, 0, 0), (0, 0, 0, 1, 0, 0), (0, 0, 0, 1, 0, 0)],\n",
       " '19': [(0, 0, 0, 1, 0, 1), (0, 0, 0, 1, 0, 1), (0, 0, 0, 1, 0, 1)],\n",
       " '20': [(0, 0, 0, 1, 0, 0), (0, 0, 0, 1, 1, 0), (0, 0, 0, 1, 1, 0)],\n",
       " '21': [(0, 0, 0, 1, 0, 1), (0, 0, 0, 1, 0, 1), (0, 0, 0, 1, 0, 1)],\n",
       " '22': [(0, 0, 0, 0, 1, 0), (0, 0, 0, 1, 1, 0), (0, 0, 0, 1, 1, 0)],\n",
       " '23:1': [(0, 0, 0, 1, 0, 0), (0, 0, 0, 1, 0, 1), (0, 0, 0, 1, 0, 1)],\n",
       " '23:2': [(0, 0, 0, 1, 0, 0), (0, 1, 0, 1, 0, 0), (0, 1, 0, 1, 0, 0)],\n",
       " '24': [(0, 0, 0, 1, 0, 0), (0, 1, 0, 1, 0, 0), (0, 1, 0, 1, 0, 0)],\n",
       " '25': [(0, 0, 0, 0, 1, 0), (0, 0, 0, 1, 0, 1), (0, 0, 0, 1, 0, 1)],\n",
       " '26': [(0, 0, 0, 0, 1, 0), (0, 0, 1, 1, 0, 0), (0, 0, 1, 1, 0, 0)]}"
      ]
     },
     "execution_count": 84,
     "metadata": {},
     "output_type": "execute_result"
    }
   ],
   "source": [
    "dsorted"
   ]
  },
  {
   "cell_type": "code",
   "execution_count": 85,
   "metadata": {},
   "outputs": [],
   "source": [
    "with open('dominant21.json','w') as file:\n",
    "    json.dump(dsorted,file)"
   ]
  },
  {
   "cell_type": "code",
   "execution_count": 3,
   "metadata": {},
   "outputs": [],
   "source": [
    "ret  = []\n",
    "for i in range(1,40):\n",
    "    filename = 'goodDesign/node{}/result_{}.json'.format(i,i)\n",
    "    with open(filename,'r') as file:\n",
    "        ret.append(json.load(file))"
   ]
  },
  {
   "cell_type": "code",
   "execution_count": 8,
   "metadata": {},
   "outputs": [
    {
     "name": "stdout",
     "output_type": "stream",
     "text": [
      "20\n"
     ]
    },
    {
     "ename": "IndexError",
     "evalue": "list index out of range",
     "output_type": "error",
     "traceback": [
      "\u001b[0;31m---------------------------------------------------------------------------\u001b[0m",
      "\u001b[0;31mIndexError\u001b[0m                                Traceback (most recent call last)",
      "\u001b[0;32m<ipython-input-8-a7f8804d44a3>\u001b[0m in \u001b[0;36m<module>\u001b[0;34m\u001b[0m\n\u001b[1;32m      1\u001b[0m \u001b[0;32mfor\u001b[0m \u001b[0mi\u001b[0m \u001b[0;32min\u001b[0m \u001b[0mrange\u001b[0m\u001b[0;34m(\u001b[0m\u001b[0;36m40\u001b[0m\u001b[0;34m)\u001b[0m\u001b[0;34m:\u001b[0m\u001b[0;34m\u001b[0m\u001b[0;34m\u001b[0m\u001b[0m\n\u001b[0;32m----> 2\u001b[0;31m     \u001b[0;32mif\u001b[0m \u001b[0mret\u001b[0m\u001b[0;34m[\u001b[0m\u001b[0mi\u001b[0m\u001b[0;34m]\u001b[0m\u001b[0;34m[\u001b[0m\u001b[0;36m0\u001b[0m\u001b[0;34m]\u001b[0m\u001b[0;34m[\u001b[0m\u001b[0;36m0\u001b[0m\u001b[0;34m]\u001b[0m \u001b[0;34m==\u001b[0m \u001b[0;34m'18:1'\u001b[0m\u001b[0;34m:\u001b[0m\u001b[0;34m\u001b[0m\u001b[0;34m\u001b[0m\u001b[0m\n\u001b[0m\u001b[1;32m      3\u001b[0m         \u001b[0mprint\u001b[0m\u001b[0;34m(\u001b[0m\u001b[0mi\u001b[0m\u001b[0;34m)\u001b[0m\u001b[0;34m\u001b[0m\u001b[0;34m\u001b[0m\u001b[0m\n",
      "\u001b[0;31mIndexError\u001b[0m: list index out of range"
     ]
    }
   ],
   "source": [
    "for i in range(40):\n",
    "    if ret[i][0][0] == '18:1':\n",
    "        print(i)"
   ]
  },
  {
   "cell_type": "code",
   "execution_count": 11,
   "metadata": {},
   "outputs": [
    {
     "data": {
      "text/plain": [
       "['18:1',\n",
       " [0, 0, 0, 0, 2, 0],\n",
       " [0, 0, 0, 0, 1, 0],\n",
       " [0, 0, 0, 0, 1, 0],\n",
       " [0, 1, 1, 1, 1, 0]]"
      ]
     },
     "execution_count": 11,
     "metadata": {},
     "output_type": "execute_result"
    }
   ],
   "source": [
    "ret[20][1]"
   ]
  },
  {
   "cell_type": "code",
   "execution_count": 16,
   "metadata": {},
   "outputs": [],
   "source": [
    "subSample = []\n",
    "for i in range(21,22):\n",
    "    filename = 'goodDesign/node{}/subSampleCC.json'.format(i)\n",
    "    with open(filename,'r') as file:\n",
    "        subSample = json.load(file)"
   ]
  },
  {
   "cell_type": "code",
   "execution_count": 32,
   "metadata": {},
   "outputs": [
    {
     "data": {
      "text/plain": [
       "[1.7736369469436226,\n",
       " 0.6765269029655869,\n",
       " 0.27397080492929743,\n",
       " 0.43499611302589175,\n",
       " 2.956596415824098,\n",
       " 0.8106260626022012]"
      ]
     },
     "execution_count": 32,
     "metadata": {},
     "output_type": "execute_result"
    }
   ],
   "source": [
    "subSample['18:1'][14]"
   ]
  },
  {
   "cell_type": "code",
   "execution_count": 21,
   "metadata": {},
   "outputs": [],
   "source": [
    "import json\n",
    "from goodDesignHelpers import *\n",
    "import sys"
   ]
  },
  {
   "cell_type": "code",
   "execution_count": 49,
   "metadata": {},
   "outputs": [],
   "source": [
    "tempRet = []\n",
    "for v in [20]:\n",
    "    portraitList = []\n",
    "    v1 = v2 = v\n",
    "    for k in [21]:\n",
    "        #index = portraitString21.index(k)\n",
    "        #heavisideIndex = portraitIndexOfCC21[index]\n",
    "        #samples = subSampleCC[k]\n",
    "        samples = [subSample['18:1'][14]]\n",
    "        for parameters in samples:\n",
    "            # check the portrait of each sample for \n",
    "        #for key in keys:\n",
    "            #parameters = parameterList[key]\n",
    "            #print(k)\n",
    "            theta1, theta2, mu, beta, pi, d = parameters\n",
    "            H1= partial(Hill,v = v1)\n",
    "            H2= partial(Hill,v = v2)\n",
    "            numericalPF = partial(findFP,params = parameters,H1=H1,H2=H2)\n",
    "            upperBound = (beta+1)/(mu*pi) + (1+beta)/(mu*(pi+d))\n",
    "            samples = regionSample(theta1,theta2,upperBound)\n",
    "            portrait = dict()\n",
    "            #equilibrium = dict()\n",
    "            for i in range(len(samples)):\n",
    "                for j in range(len(samples)):\n",
    "                    p1, p2 = samples[i], samples[j]\n",
    "                    x = fsolve(numericalPF,[p1,p2]) \n",
    "\n",
    "                    if not sum(map(lambda k: abs(k), numericalPF(x))) < 1e-6:\n",
    "                        continue \n",
    "                    #print(x,numericalPF(x))\n",
    "                    if isInRegion(x,parameters) and isAttractorOverall(x,parameters,H1,H2):\n",
    "                        generatePortraits(x,parameters,portrait)\n",
    "\n",
    "                    #if isInRegion(x,parameters):\n",
    "                    #    generatePortraits(x,parameters,equilibrium)\n",
    "            #print(portrait)\n",
    "            portraitList.append(portrait)\n",
    "    tempRet.append(portraitList)"
   ]
  },
  {
   "cell_type": "code",
   "execution_count": 50,
   "metadata": {},
   "outputs": [
    {
     "data": {
      "text/plain": [
       "[[{7: {(0.872157, 2.66931)}, 5: {(2.66931, 0.872157)}}]]"
      ]
     },
     "execution_count": 50,
     "metadata": {},
     "output_type": "execute_result"
    }
   ],
   "source": [
    "tempRet"
   ]
  },
  {
   "cell_type": "code",
   "execution_count": 31,
   "metadata": {},
   "outputs": [
    {
     "data": {
      "text/plain": [
       "['18:1',\n",
       " [0, 0, 1, 0, 0, 0],\n",
       " [0, 0, 1, 0, 0, 0],\n",
       " [0, 0, 1, 0, 0, 0],\n",
       " [0, 1, 1, 1, 1, 0]]"
      ]
     },
     "execution_count": 31,
     "metadata": {},
     "output_type": "execute_result"
    }
   ],
   "source": [
    "ret[20][14]"
   ]
  },
  {
   "cell_type": "code",
   "execution_count": 46,
   "metadata": {},
   "outputs": [],
   "source": [
    "def computeFixedPoint(p):\n",
    "    p1,p2 = p\n",
    "    m1 = (1+2/mu*H1(p1,theta1))/(mu+H1(p2,theta1)+H1(p1,theta1))\n",
    "    m2 = 2/mu - m1\n",
    "    return [m1,m2,p1,p2]\n",
    "\n",
    "fp = computeFixedPoint((1.918186, 1.918186))"
   ]
  },
  {
   "cell_type": "code",
   "execution_count": 47,
   "metadata": {},
   "outputs": [],
   "source": [
    "def M1(fp):\n",
    "        m1,m2,p1,p2 = fp\n",
    "        return 1-mu*m1 - H1(p2,theta1)*m1 + H1(p1,theta1)*m2\n",
    "\n",
    "def M2(fp):\n",
    "    m1,m2,p1,p2 = fp\n",
    "    return 1-mu*m2 + H1(p2,theta1)*m1 - H1(p1,theta1)*m2\n",
    "\n",
    "def P1(fp):\n",
    "    m1,m2,p1,p2 = fp\n",
    "    return (beta+ H2(p1,theta2))*m1 - pi*p1 + d*(p2-p1)\n",
    "\n",
    "def P2(fp):\n",
    "    m1,m2,p1,p2 = fp\n",
    "    return (beta+ H2(p2,theta2))*m2 - pi*p2 + d*(p1-p2)"
   ]
  },
  {
   "cell_type": "code",
   "execution_count": 48,
   "metadata": {},
   "outputs": [
    {
     "data": {
      "text/plain": [
       "[0.0, 0.0, -3.978548690497519e-08, -3.978548690497519e-08]"
      ]
     },
     "execution_count": 48,
     "metadata": {},
     "output_type": "execute_result"
    }
   ],
   "source": [
    "vals = [M1(fp),M2(fp),P1(fp),P2(fp)]\n",
    "vals"
   ]
  },
  {
   "cell_type": "code",
   "execution_count": 33,
   "metadata": {},
   "outputs": [],
   "source": [
    "def isAttractorOverall(p, parameters,H1,H2):\n",
    "    theta1, theta2, mu, beta, pi, d = parameters\n",
    "    \n",
    "    def computeFixedPoint(p):\n",
    "        p1,p2 = p\n",
    "        m1 = (1+2/mu*H1(p1,theta1))/(mu+H1(p2,theta1)+H1(p1,theta1))\n",
    "        m2 = 2/mu - m1\n",
    "        return [m1,m2,p1,p2]\n",
    "    \n",
    "    fp = computeFixedPoint(p)\n",
    "    \n",
    "    def M1(fp):\n",
    "        m1,m2,p1,p2 = fp\n",
    "        return 1-mu*m1 - H1(p2,theta1)*m1 + H1(p1,theta1)*m2\n",
    "\n",
    "    def M2(fp):\n",
    "        m1,m2,p1,p2 = fp\n",
    "        return 1-mu*m2 + H1(p2,theta1)*m1 - H1(p1,theta1)*m2\n",
    "\n",
    "    def P1(fp):\n",
    "        m1,m2,p1,p2 = fp\n",
    "        return (beta+ H2(p1,theta2))*m1 - pi*p1 + d*(p2-p1)\n",
    "\n",
    "    def P2(fp):\n",
    "        m1,m2,p1,p2 = fp\n",
    "        return (beta+ H2(p2,theta2))*m2 - pi*p2 + d*(p1-p2)\n",
    "    \n",
    "    matrix = [grad(M1)(np.array(fp)),grad(M2)(np.array(fp)),grad(P1)(np.array(fp)),grad(P2)(np.array(fp))]\n",
    "    vals = np.linalg.eigvals(matrix)\n",
    "    \n",
    "    for v in vals:\n",
    "        if v>=0:\n",
    "            return False\n",
    "    return True"
   ]
  },
  {
   "cell_type": "code",
   "execution_count": null,
   "metadata": {},
   "outputs": [],
   "source": []
  }
 ],
 "metadata": {
  "kernelspec": {
   "display_name": "Python (tensorflow)",
   "language": "python",
   "name": "myenv"
  },
  "language_info": {
   "codemirror_mode": {
    "name": "ipython",
    "version": 3
   },
   "file_extension": ".py",
   "mimetype": "text/x-python",
   "name": "python",
   "nbconvert_exporter": "python",
   "pygments_lexer": "ipython3",
   "version": "3.6.7"
  }
 },
 "nbformat": 4,
 "nbformat_minor": 2
}
