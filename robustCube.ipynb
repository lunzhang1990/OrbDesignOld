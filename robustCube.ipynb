{
 "cells": [
  {
   "cell_type": "markdown",
   "metadata": {},
   "source": [
    "Use binary search for find the robust cube from a single sample point in the region 18:1"
   ]
  },
  {
   "cell_type": "code",
   "execution_count": 4,
   "metadata": {},
   "outputs": [],
   "source": [
    "import json\n",
    "from goodDesignHelpers import *\n",
    "import sys"
   ]
  },
  {
   "cell_type": "code",
   "execution_count": 5,
   "metadata": {},
   "outputs": [],
   "source": [
    "def generateAtomicIndex(parameter):\n",
    "    parameter[:2] = sorted(parameter[:2])[::-1]\n",
    "    theta1, theta2, mu,beta, pi, d = parameter\n",
    "    factor = (pi*pi + 2*pi*d)*mu\n",
    "    #factor = 1\n",
    "\n",
    "    dl2 = beta*(pi+d) + (1+beta)*d\n",
    "    du2 = beta*d + (1+beta)*(pi+d)\n",
    "    dl1 = beta*d + (1+beta)*(pi+d)\n",
    "    tl2 = (beta*mu*(pi+d)+(2+2*beta+mu+beta*mu)*d)/(1+mu)\n",
    "    tu1 = (beta*mu*d + (2+2*beta+mu+beta*mu)*(pi+d))/(1+mu)\n",
    "    ru2 = ((mu+beta*mu)*(pi+d)+(2+2*beta+mu+beta*mu)*d)/(1+mu)\n",
    "    rl1 = ((mu+beta*mu)*(pi+d)+(2+2*beta+mu+beta*mu)*d)/(1+mu)\n",
    "    ru1 = ((mu+beta*mu)*d+(2+2*beta+mu+mu*beta)*(pi+d))/(1+mu)\n",
    "    sl12 = beta*(2*d+pi)\n",
    "    su22 = (1+beta)*(2*d+pi)\n",
    "    sl21 = (1+beta)*(2*d+pi)\n",
    "    su31 = (1+beta)*(2*d+pi)\n",
    "\n",
    "    scaledList1 = [dl1,tu1,rl1,ru1,sl21,su31]\n",
    "    scaledList2 = [dl2,du2,tl2,ru2,sl12,su22]\n",
    "\n",
    "    theta1List = [x/factor for x in scaledList1]\n",
    "    theta2List = [x/factor for x in scaledList2] \n",
    "\n",
    "    pre1 = []\n",
    "    post1 = []\n",
    "    for i in range(len(theta1List)):\n",
    "        curr = theta1List[i]\n",
    "        if curr < theta1:\n",
    "            pre1.append(i)\n",
    "        elif curr > theta1:\n",
    "            post1.append(i)\n",
    "        else:\n",
    "            # should return False\n",
    "            pass\n",
    "\n",
    "    pre2 = []\n",
    "    post2 = []\n",
    "    for i in range(len(theta2List)):\n",
    "        curr = theta2List[i]\n",
    "        if curr < theta2:\n",
    "            pre2.append(i)\n",
    "        elif curr > theta2:\n",
    "            post2.append(i)\n",
    "        else:\n",
    "            # should return False\n",
    "            pass\n",
    "    index = [pre1,post1,pre2,post2]\n",
    "    index = [tuple(x) for x in index]\n",
    "    return tuple(index)\n",
    "\n",
    "def isGoodDesign(portrait):\n",
    "    if len(portrait) > 0:\n",
    "        if (0 not in portrait) and (4 not in portrait) and (8 not in portrait):\n",
    "            return True\n",
    "    return False\n",
    "\n",
    "def getPortrait(parameters,H1,H2):\n",
    "    theta1, theta2, mu, beta, pi, d = parameters\n",
    "    numericalPF = partial(findFP,params = parameters,H1=H1,H2=H2)\n",
    "    upperBound = (beta+1)/(mu*pi) + (1+beta)/(mu*(pi+d))\n",
    "    samples = regionSample(theta1,theta2,upperBound)\n",
    "    portrait = dict()\n",
    "    #equilibrium = dict()\n",
    "    for i in range(len(samples)):\n",
    "        for j in range(len(samples)):\n",
    "            p1, p2 = samples[i], samples[j]\n",
    "            x = fsolve(numericalPF,[p1,p2]) \n",
    "\n",
    "            if not sum(map(lambda k: abs(k), numericalPF(x))) < 1e-6:\n",
    "                continue \n",
    "            #print(x,numericalPF(x))\n",
    "            if isInRegion(x,parameters) and isAttractorOverall(x,parameters,H1,H2):\n",
    "                generatePortraits(x,parameters,portrait)\n",
    "    \n",
    "    return portrait\n",
    "\n",
    "    \n",
    "    \n",
    "def bsMethod(start, direction, history, H1, H2):\n",
    "    \"\"\"as the region is simply connected \"\"\"\n",
    "    t0,t1 =0, 1\n",
    "    #end = [(start[i]+direction[i])/2 for i in range(len(left))]\n",
    "    #endPortrait = getPortrait(end, H1, H2)\n",
    "    #isGoodEnd = isGoodDesign(endPortrait)\n",
    "    #history.append((end, isGoodEnd))\n",
    "    \n",
    "    updateDistance = t1 - t0\n",
    "    \n",
    "    while updateDistance > 1e-6:\n",
    "        \n",
    "        mt = (t0+t1)/2\n",
    "        mPoint = [start[i]+direction[i]*mt for i in range(len(direction))]\n",
    "        mPortrait = getPortrait(mPoint,H1,H2)\n",
    "        isGoodM = isGoodDesign(mPortrait)\n",
    "        \n",
    "        if isGoodM:\n",
    "            t0 = mt\n",
    "        else:\n",
    "            t1 = mt\n",
    "            \n",
    "        history.append((t0,t1))\n",
    "        \n",
    "        updateDistance = t1 - t0\n",
    "            \n",
    "            \n",
    "def getUpperBound(start, direction, history, H1, H2):\n",
    "    t = 1\n",
    "    while True:\n",
    "        ePoint = [start[i]+direction[i]*t for i in range(len(direction))]\n",
    "        ePortrait = getPortrait(ePoint,H1,H2)\n",
    "        isGoodE = isGoodDesign(ePortrait)\n",
    "        history.append((t,isGoodE))\n",
    "        \n",
    "        if isGoodE:\n",
    "            t*=2\n",
    "            \n",
    "        if not isGoodE or t > 1e6:\n",
    "            return \n",
    "        \n",
    "\n",
    "        \n",
    "def getRobustCube(point, H1, H2):\n",
    "    pass\n",
    "\n",
    "\n",
    "def getDirectionIntervale():\n",
    "    pass"
   ]
  },
  {
   "cell_type": "markdown",
   "metadata": {},
   "source": [
    " (\\theta_1, \\theta_2, \\mu, \\beta, \\pi, D) = (1.8, 0.67, 0.275, 0.45, 2.95, 0.8)"
   ]
  },
  {
   "cell_type": "code",
   "execution_count": 6,
   "metadata": {},
   "outputs": [],
   "source": [
    "parameters = [1.8, 0.67, 0.275, 0.45, 2.95, 0.8]"
   ]
  },
  {
   "cell_type": "code",
   "execution_count": 7,
   "metadata": {},
   "outputs": [
    {
     "name": "stderr",
     "output_type": "stream",
     "text": [
      "/Users/lunzhang/anaconda3/envs/tensorflow_env/lib/python3.6/site-packages/scipy/optimize/minpack.py:163: RuntimeWarning: The iteration is not making good progress, as measured by the \n",
      "  improvement from the last ten iterations.\n",
      "  warnings.warn(msg, RuntimeWarning)\n",
      "/Users/lunzhang/anaconda3/envs/tensorflow_env/lib/python3.6/site-packages/scipy/optimize/minpack.py:163: RuntimeWarning: The iteration is not making good progress, as measured by the \n",
      "  improvement from the last five Jacobian evaluations.\n",
      "  warnings.warn(msg, RuntimeWarning)\n"
     ]
    },
    {
     "name": "stdout",
     "output_type": "stream",
     "text": [
      "{7: {(0.877543, 2.695988)}, 5: {(2.695988, 0.877543)}}\n"
     ]
    }
   ],
   "source": [
    "v=20\n",
    "portraitList = []\n",
    "v1 = v2 = v\n",
    "H1= partial(Hill,v = v1)\n",
    "H2= partial(Hill,v = v2)\n",
    "\n",
    "\n",
    "count = 1\n",
    "\n",
    "ret = []\n",
    "subSample = []\n",
    "\n",
    "count = 0\n",
    "\n",
    "    # check the portrait of each sample for \n",
    "#for key in keys:\n",
    "    #parameters = parameterList[key]\n",
    "    #print(k)\n",
    "theta1, theta2, mu, beta, pi, d = parameters\n",
    "numericalPF = partial(findFP,params = parameters,H1=H1,H2=H2)\n",
    "upperBound = (beta+1)/(mu*pi) + (1+beta)/(mu*(pi+d))\n",
    "samples = regionSample(theta1,theta2,upperBound)\n",
    "portrait = dict()\n",
    "#equilibrium = dict()\n",
    "for i in range(len(samples)):\n",
    "    for j in range(len(samples)):\n",
    "        p1, p2 = samples[i], samples[j]\n",
    "        x = fsolve(numericalPF,[p1,p2]) \n",
    "\n",
    "        if not sum(map(lambda k: abs(k), numericalPF(x))) < 1e-6:\n",
    "            continue \n",
    "        #print(x,numericalPF(x))\n",
    "        if isInRegion(x,parameters) and isAttractorOverall(x,parameters,H1,H2):\n",
    "            generatePortraits(x,parameters,portrait)\n",
    "\n",
    "# is asymmetric\n",
    "if isGoodDesign(portrait):\n",
    "    print(portrait)\n",
    "    ret.append(list(parameters))\n",
    "\n"
   ]
  },
  {
   "cell_type": "code",
   "execution_count": 8,
   "metadata": {},
   "outputs": [],
   "source": [
    "def getPortrait(parameters, H1, H2):\n",
    "    theta1, theta2, mu, beta, pi, d = parameters\n",
    "    numericalPF = partial(findFP,params = parameters,H1=H1,H2=H2)\n",
    "    upperBound = (beta+1)/(mu*pi) + (1+beta)/(mu*(pi+d))\n",
    "    samples = regionSample(theta1,theta2,upperBound)\n",
    "    portrait = dict()\n",
    "    #equilibrium = dict()\n",
    "    for i in range(len(samples)):\n",
    "        for j in range(len(samples)):\n",
    "            p1, p2 = samples[i], samples[j]\n",
    "            x = fsolve(numericalPF,[p1,p2]) \n",
    "\n",
    "            if not sum(map(lambda k: abs(k), numericalPF(x))) < 1e-6:\n",
    "                continue \n",
    "            #print(x,numericalPF(x))\n",
    "            if isInRegion(x,parameters) and isAttractorOverall(x,parameters,H1,H2):\n",
    "                generatePortraits(x,parameters,portrait)\n",
    "\n",
    "    # is asymmetric\n",
    "    return portrait\n"
   ]
  },
  {
   "cell_type": "code",
   "execution_count": 9,
   "metadata": {},
   "outputs": [
    {
     "name": "stderr",
     "output_type": "stream",
     "text": [
      "/Users/lunzhang/anaconda3/envs/tensorflow_env/lib/python3.6/site-packages/scipy/optimize/minpack.py:163: RuntimeWarning: The iteration is not making good progress, as measured by the \n",
      "  improvement from the last ten iterations.\n",
      "  warnings.warn(msg, RuntimeWarning)\n",
      "/Users/lunzhang/anaconda3/envs/tensorflow_env/lib/python3.6/site-packages/scipy/optimize/minpack.py:163: RuntimeWarning: The iteration is not making good progress, as measured by the \n",
      "  improvement from the last five Jacobian evaluations.\n",
      "  warnings.warn(msg, RuntimeWarning)\n"
     ]
    },
    {
     "data": {
      "text/plain": [
       "{7: {(0.877543, 2.695988)}, 5: {(2.695988, 0.877543)}}"
      ]
     },
     "execution_count": 9,
     "metadata": {},
     "output_type": "execute_result"
    }
   ],
   "source": [
    "v=20\n",
    "portraitList = []\n",
    "v1 = v2 = v\n",
    "H1= partial(Hill,v = v1)\n",
    "H2= partial(Hill,v = v2)\n",
    "parameters = [1.8, 0.67, 0.275, 0.45, 2.95, 0.8]\n",
    "getPortrait(parameters,H1, H2)"
   ]
  },
  {
   "cell_type": "code",
   "execution_count": 39,
   "metadata": {},
   "outputs": [
    {
     "data": {
      "text/plain": [
       "54"
      ]
     },
     "execution_count": 39,
     "metadata": {},
     "output_type": "execute_result"
    }
   ],
   "source": [
    "count"
   ]
  },
  {
   "cell_type": "code",
   "execution_count": null,
   "metadata": {},
   "outputs": [],
   "source": [
    "count = 1\n",
    "proportion = 0.2\n",
    "position = 5\n",
    "while True:\n",
    "    params = parameters.copy()\n",
    "    params[position] += count*proportion*parameters[position]\n",
    "    portrait = getPortrait(params,H1, H2)\n",
    "    print(portrait)\n",
    "    count+=1"
   ]
  },
  {
   "cell_type": "code",
   "execution_count": null,
   "metadata": {},
   "outputs": [],
   "source": [
    "count = 1\n",
    "proportion = 0.02\n",
    "position = 5\n",
    "while True:\n",
    "    params = parameters.copy()\n",
    "    params[position] -= count*proportion*parameters[position]\n",
    "    if params[position] <=0:\n",
    "        break\n",
    "    print(getPortrait(params,H1, H2),count)\n",
    "    count+=1"
   ]
  },
  {
   "cell_type": "code",
   "execution_count": 33,
   "metadata": {},
   "outputs": [
    {
     "name": "stderr",
     "output_type": "stream",
     "text": [
      "/Users/lunzhang/anaconda3/envs/tensorflow_env/lib/python3.6/site-packages/scipy/optimize/minpack.py:163: RuntimeWarning: The iteration is not making good progress, as measured by the \n",
      "  improvement from the last ten iterations.\n",
      "  warnings.warn(msg, RuntimeWarning)\n",
      "/Users/lunzhang/anaconda3/envs/tensorflow_env/lib/python3.6/site-packages/scipy/optimize/minpack.py:163: RuntimeWarning: The iteration is not making good progress, as measured by the \n",
      "  improvement from the last five Jacobian evaluations.\n",
      "  warnings.warn(msg, RuntimeWarning)\n"
     ]
    },
    {
     "name": "stdout",
     "output_type": "stream",
     "text": [
      "0.1 0.22 0\n",
      "[[1.62, 2.196]]\n",
      "[[0.9, 1.22]]\n",
      "0.98 0.04 1\n",
      "[[1.62, 2.196], [0.013400000000000013, 0.6968000000000001]]\n",
      "[[0.9, 1.22], [0.020000000000000018, 1.04]]\n",
      "0.1 0.04 2\n",
      "[[1.62, 2.196], [0.013400000000000013, 0.6968000000000001], [0.24750000000000003, 0.28600000000000003]]\n",
      "[[0.9, 1.22], [0.020000000000000018, 1.04], [0.9, 1.04]]\n",
      "0.04 0.42 3\n",
      "[[1.62, 2.196], [0.013400000000000013, 0.6968000000000001], [0.24750000000000003, 0.28600000000000003], [0.432, 0.639]]\n",
      "[[0.9, 1.22], [0.020000000000000018, 1.04], [0.9, 1.04], [0.96, 1.42]]\n",
      "0.1 0.04 4\n",
      "[[1.62, 2.196], [0.013400000000000013, 0.6968000000000001], [0.24750000000000003, 0.28600000000000003], [0.432, 0.639], [2.6550000000000002, 3.0680000000000005]]\n",
      "[[0.9, 1.22], [0.020000000000000018, 1.04], [0.9, 1.04], [0.96, 1.42], [0.9, 1.04]]\n",
      "0.98 1.0 5\n",
      "[[1.62, 2.196], [0.013400000000000013, 0.6968000000000001], [0.24750000000000003, 0.28600000000000003], [0.432, 0.639], [2.6550000000000002, 3.0680000000000005], [0.016000000000000014, 1.6]]\n",
      "[[0.9, 1.22], [0.020000000000000018, 1.04], [0.9, 1.04], [0.96, 1.42], [0.9, 1.04], [0.020000000000000018, 2.0]]\n"
     ]
    }
   ],
   "source": [
    "v=20\n",
    "portraitList = []\n",
    "v1 = v2 = v\n",
    "H1= partial(Hill,v = v1)\n",
    "H2= partial(Hill,v = v2)\n",
    "parameters = [1.8, 0.67, 0.275, 0.45, 2.95, 0.8]\n",
    "retLU = []\n",
    "retProportion = []\n",
    "for position in range(len(parameters)):\n",
    "    upper, lower = None, None\n",
    "    count = 1\n",
    "    proportion = 0.02\n",
    "    while True:\n",
    "        params = parameters.copy()\n",
    "        params[position] += count*proportion*parameters[position]\n",
    "        portrait = getPortrait(params,H1, H2)\n",
    "        \n",
    "        if count*proportion >=1:\n",
    "            upper = count\n",
    "            break\n",
    "        \n",
    "        if not isGoodDesign(portrait):\n",
    "            upper = (count-1)\n",
    "            break\n",
    "            \n",
    "        count+=1\n",
    "        \n",
    "        \n",
    "    count = 1\n",
    "    while True:\n",
    "        params = parameters.copy()\n",
    "        params[position] -= count*proportion*parameters[position]\n",
    "        if params[position] <=0:\n",
    "            lower = (count-1)\n",
    "            break\n",
    "            \n",
    "        portrait = getPortrait(params,H1, H2)\n",
    "        if not isGoodDesign(portrait):\n",
    "            lower = (count-1)\n",
    "            break\n",
    "        count+=1\n",
    "        \n",
    "    print(lower*proportion,upper*proportion,position)\n",
    "    retProportion.append([1-lower*proportion, 1+upper*proportion])\n",
    "    retLU.append([(1-lower*proportion)*parameters[position], (1+upper*proportion)*parameters[position]])\n",
    "    print(retLU)\n",
    "    print(retProportion)"
   ]
  },
  {
   "cell_type": "code",
   "execution_count": 35,
   "metadata": {},
   "outputs": [
    {
     "data": {
      "text/plain": [
       "[[1.62, 2.196],\n",
       " [0.013400000000000013, 0.6968000000000001],\n",
       " [0.24750000000000003, 0.28600000000000003],\n",
       " [0.432, 0.639],\n",
       " [2.6550000000000002, 3.0680000000000005],\n",
       " [0.016000000000000014, 1.6]]"
      ]
     },
     "execution_count": 35,
     "metadata": {},
     "output_type": "execute_result"
    }
   ],
   "source": [
    "retLU"
   ]
  },
  {
   "cell_type": "code",
   "execution_count": 36,
   "metadata": {},
   "outputs": [
    {
     "data": {
      "text/plain": [
       "[[0.9, 1.22],\n",
       " [0.020000000000000018, 1.04],\n",
       " [0.9, 1.04],\n",
       " [0.96, 1.42],\n",
       " [0.9, 1.04],\n",
       " [0.020000000000000018, 2.0]]"
      ]
     },
     "execution_count": 36,
     "metadata": {},
     "output_type": "execute_result"
    }
   ],
   "source": [
    "retProportion"
   ]
  }
 ],
 "metadata": {
  "kernelspec": {
   "display_name": "Python (tensorflow)",
   "language": "python",
   "name": "myenv"
  },
  "language_info": {
   "codemirror_mode": {
    "name": "ipython",
    "version": 3
   },
   "file_extension": ".py",
   "mimetype": "text/x-python",
   "name": "python",
   "nbconvert_exporter": "python",
   "pygments_lexer": "ipython3",
   "version": "3.6.7"
  }
 },
 "nbformat": 4,
 "nbformat_minor": 2
}
