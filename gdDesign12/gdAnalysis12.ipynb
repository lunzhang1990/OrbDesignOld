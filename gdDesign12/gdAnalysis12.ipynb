{
 "cells": [
  {
   "cell_type": "code",
   "execution_count": 2,
   "metadata": {},
   "outputs": [],
   "source": [
    "import json\n",
    "from collections import Counter"
   ]
  },
  {
   "cell_type": "code",
   "execution_count": 3,
   "metadata": {},
   "outputs": [],
   "source": [
    "with open(\"result12.json\",'r') as file:\n",
    "    ret = json.load(file)"
   ]
  },
  {
   "cell_type": "code",
   "execution_count": 4,
   "metadata": {},
   "outputs": [],
   "source": [
    "# for each component compute the proportion of good design\n",
    "gdStatistics20 = dict()\n",
    "samples = 1000\n",
    "for node in ret:\n",
    "    key = node[0][0]\n",
    "    gdStatistics20[key] = 0\n",
    "    #print(key)\n",
    "    for i in range(len(node)):\n",
    "        currNode  = node[i]\n",
    "        hill20 = currNode[-2]\n",
    "        if sum(hill20[:3]) > 0 and sum(hill20[3:]) == 0:\n",
    "            gdStatistics20[key]+=1\n",
    "    gdStatistics20[key]/=1000"
   ]
  },
  {
   "cell_type": "code",
   "execution_count": 5,
   "metadata": {},
   "outputs": [
    {
     "data": {
      "text/plain": [
       "{'1': 0.0,\n",
       " '2': 0.0,\n",
       " '3:1': 0.0,\n",
       " '3:2': 0.0,\n",
       " '4': 0.0,\n",
       " '5:1': 0.0,\n",
       " '5:2': 0.0,\n",
       " '5:3': 0.0,\n",
       " '6': 0.0,\n",
       " '7:1': 0.0,\n",
       " '7:2': 0.0,\n",
       " '8': 0.001,\n",
       " '9': 0.238,\n",
       " '10:1': 0.0,\n",
       " '10:2': 0.289,\n",
       " '11:1': 0.0,\n",
       " '11:2': 0.47,\n",
       " '12:1': 0.0,\n",
       " '12:2': 0.0,\n",
       " '12:3': 0.0,\n",
       " '12:4': 0.189,\n",
       " '13': 0.057,\n",
       " '14:1': 0.0,\n",
       " '14:2': 0.089,\n",
       " '15': 0.234,\n",
       " '16:1': 0.0,\n",
       " '16:2': 0.143,\n",
       " '17': 0.48,\n",
       " '18:1': 0.0,\n",
       " '18:2': 0.418,\n",
       " '19': 0.013,\n",
       " '20': 0.016,\n",
       " '21': 0.41,\n",
       " '22': 0.344,\n",
       " '23': 0.476,\n",
       " '24:1': 0.0,\n",
       " '24:2': 0.307,\n",
       " '25': 0.155,\n",
       " '26': 0.214}"
      ]
     },
     "execution_count": 5,
     "metadata": {},
     "output_type": "execute_result"
    }
   ],
   "source": [
    "gdStatistics20"
   ]
  },
  {
   "cell_type": "code",
   "execution_count": 7,
   "metadata": {
    "scrolled": false
   },
   "outputs": [],
   "source": [
    "outside = 0\n",
    "inside = 0\n",
    "ds20 = dict()\n",
    "for k in gdStatistics20:\n",
    "    if gdStatistics20[k] > 0.5:\n",
    "        print(k,gdStatistics20[k])\n",
    "        inside += gdStatistics20[k]\n",
    "        ds20[k] = gdStatistics20[k]\n",
    "    else:\n",
    "        outside += gdStatistics20[k]"
   ]
  },
  {
   "cell_type": "code",
   "execution_count": 8,
   "metadata": {},
   "outputs": [
    {
     "name": "stdout",
     "output_type": "stream",
     "text": [
      "0.0 0.14196875000000003\n"
     ]
    }
   ],
   "source": [
    "print(inside/7, outside/32)"
   ]
  },
  {
   "cell_type": "code",
   "execution_count": 8,
   "metadata": {},
   "outputs": [],
   "source": [
    "# for each component compute the proportion of good design\n",
    "gdStatistics10 = dict()\n",
    "samples = 1000\n",
    "for node in ret:\n",
    "    key = node[0][0]\n",
    "    gdStatistics10[key] = 0\n",
    "    #print(key)\n",
    "    for i in range(len(node)):\n",
    "        currNode  = node[i]\n",
    "        hill10 = currNode[-3]\n",
    "        if sum(hill10[:3]) > 0 and sum(hill10[3:]) == 0:\n",
    "            gdStatistics10[key]+=1\n",
    "    gdStatistics10[key]/=1000"
   ]
  },
  {
   "cell_type": "code",
   "execution_count": 9,
   "metadata": {},
   "outputs": [
    {
     "name": "stdout",
     "output_type": "stream",
     "text": [
      "11:2 0.835\n",
      "12:4 0.559\n",
      "23 0.638\n",
      "24:2 0.601\n"
     ]
    }
   ],
   "source": [
    "outside = 0\n",
    "inside = 0\n",
    "for k in gdStatistics10:\n",
    "    if gdStatistics10[k] > 0.5:\n",
    "        print(k,gdStatistics10[k])\n",
    "        inside += gdStatistics10[k]\n",
    "    else:\n",
    "        outside += gdStatistics10[k]"
   ]
  },
  {
   "cell_type": "code",
   "execution_count": 10,
   "metadata": {},
   "outputs": [
    {
     "name": "stdout",
     "output_type": "stream",
     "text": [
      "0.5266 0.09208823529411765\n"
     ]
    }
   ],
   "source": [
    "print(inside/5, outside/34)"
   ]
  },
  {
   "cell_type": "code",
   "execution_count": 11,
   "metadata": {},
   "outputs": [],
   "source": [
    "# for each component compute the proportion of good design\n",
    "gdStatistics5 = dict()\n",
    "samples = 1000\n",
    "for node in ret:\n",
    "    key = node[0][0]\n",
    "    gdStatistics5[key] = 0\n",
    "    #print(key)\n",
    "    for i in range(len(node)):\n",
    "        currNode  = node[i]\n",
    "        hill5 = currNode[-4]\n",
    "        if sum(hill5[:3]) > 0 and sum(hill5[3:]) == 0:\n",
    "            gdStatistics5[key]+=1\n",
    "    gdStatistics5[key]/=1000"
   ]
  },
  {
   "cell_type": "code",
   "execution_count": 12,
   "metadata": {},
   "outputs": [
    {
     "name": "stdout",
     "output_type": "stream",
     "text": [
      "11:2 1.0\n",
      "12:4 0.567\n"
     ]
    }
   ],
   "source": [
    "for k in gdStatistics5:\n",
    "    if gdStatistics5[k] > 0.5:\n",
    "        print(k,gdStatistics5[k])"
   ]
  },
  {
   "cell_type": "code",
   "execution_count": 13,
   "metadata": {},
   "outputs": [],
   "source": [
    "r =[x[-3] for x  in ret[-4]]"
   ]
  },
  {
   "cell_type": "code",
   "execution_count": 14,
   "metadata": {},
   "outputs": [
    {
     "name": "stdout",
     "output_type": "stream",
     "text": [
      "11:2 1.0\n",
      "12:4 0.567\n"
     ]
    }
   ],
   "source": [
    "outside = 0\n",
    "inside = 0\n",
    "for k in gdStatistics5:\n",
    "    if gdStatistics5[k] > 0.5:\n",
    "        print(k,gdStatistics5[k])\n",
    "        inside += gdStatistics5[k]\n",
    "    else:\n",
    "        outside += gdStatistics5[k]"
   ]
  },
  {
   "cell_type": "code",
   "execution_count": 15,
   "metadata": {},
   "outputs": [
    {
     "name": "stdout",
     "output_type": "stream",
     "text": [
      "0.7835 0.05728947368421053\n"
     ]
    }
   ],
   "source": [
    "print(inside/2, outside/38)"
   ]
  },
  {
   "cell_type": "code",
   "execution_count": 16,
   "metadata": {},
   "outputs": [],
   "source": [
    "d5 = dict()\n",
    "for i in range(len(ret)):\n",
    "    node = ret[i]\n",
    "    index = node[0][0]\n",
    "    hill = [tuple(x[1]) for x in node]\n",
    "    counter = Counter(hill)\n",
    "    d5[index] = counter.most_common()[0]"
   ]
  },
  {
   "cell_type": "code",
   "execution_count": 17,
   "metadata": {},
   "outputs": [],
   "source": [
    "keys = list(d5.keys())"
   ]
  },
  {
   "cell_type": "code",
   "execution_count": 18,
   "metadata": {},
   "outputs": [],
   "source": [
    "def order(x):\n",
    "    if ':' not in x:\n",
    "        return int(x)\n",
    "    else:\n",
    "        return int(x.split(':')[0])\n",
    "keys = sorted(keys, key= lambda x: order(x))"
   ]
  },
  {
   "cell_type": "code",
   "execution_count": 19,
   "metadata": {},
   "outputs": [],
   "source": [
    "for k in d5:\n",
    "    d5[k] = d5[k][0]"
   ]
  },
  {
   "cell_type": "code",
   "execution_count": 20,
   "metadata": {},
   "outputs": [],
   "source": [
    "d10 = dict()\n",
    "for i in range(len(ret)):\n",
    "    node = ret[i]\n",
    "    index = node[0][0]\n",
    "    hill = [tuple(x[2]) for x in node]\n",
    "    counter = Counter(hill)\n",
    "    d10[index] = counter.most_common()[0]"
   ]
  },
  {
   "cell_type": "code",
   "execution_count": 21,
   "metadata": {},
   "outputs": [
    {
     "data": {
      "text/plain": [
       "((0, 0, 0, 0, 0, 1), 996)"
      ]
     },
     "execution_count": 21,
     "metadata": {},
     "output_type": "execute_result"
    }
   ],
   "source": [
    "d10['1']"
   ]
  },
  {
   "cell_type": "code",
   "execution_count": 22,
   "metadata": {},
   "outputs": [],
   "source": [
    "for k in d10:\n",
    "    d10[k] = d10[k][0]"
   ]
  },
  {
   "cell_type": "code",
   "execution_count": 23,
   "metadata": {},
   "outputs": [],
   "source": [
    "d20 = dict()\n",
    "for i in range(len(ret)):\n",
    "    node = ret[i]\n",
    "    index = node[0][0]\n",
    "    hill = [tuple(x[3]) for x in node]\n",
    "    counter = Counter(hill)\n",
    "    d20[index] = counter.most_common()[0]"
   ]
  },
  {
   "cell_type": "code",
   "execution_count": 24,
   "metadata": {},
   "outputs": [
    {
     "data": {
      "text/plain": [
       "((0, 0, 0, 0, 0, 1), 998)"
      ]
     },
     "execution_count": 24,
     "metadata": {},
     "output_type": "execute_result"
    }
   ],
   "source": [
    "d20['1']"
   ]
  },
  {
   "cell_type": "code",
   "execution_count": 25,
   "metadata": {},
   "outputs": [],
   "source": [
    "for k in d20:\n",
    "    d20[k] = d20[k][0]"
   ]
  },
  {
   "cell_type": "code",
   "execution_count": 26,
   "metadata": {},
   "outputs": [],
   "source": [
    "dInf = dict()\n",
    "for i in range(len(ret)):\n",
    "    node = ret[i]\n",
    "    index = node[0][0]\n",
    "    hill = [tuple(x[4]) for x in node]\n",
    "    counter = Counter(hill)\n",
    "    dInf[index] = counter.most_common()[0]"
   ]
  },
  {
   "cell_type": "code",
   "execution_count": 27,
   "metadata": {},
   "outputs": [],
   "source": [
    "for k in dInf:\n",
    "    dInf[k] = dInf[k][0]"
   ]
  },
  {
   "cell_type": "code",
   "execution_count": 28,
   "metadata": {},
   "outputs": [],
   "source": [
    "d = [d5,d10,d20,dInf]\n",
    "with open('portraits.json','w') as file:\n",
    "    json.dump(d, file)"
   ]
  },
  {
   "cell_type": "code",
   "execution_count": 29,
   "metadata": {},
   "outputs": [],
   "source": [
    "ds20, ds10, ds5= dict(), dict(), dict()\n",
    "\n",
    "for k in gdStatistics20:\n",
    "    if gdStatistics20[k] > 0.5:\n",
    "        ds20[k] = gdStatistics20[k]\n",
    "\n",
    "for k in gdStatistics10:\n",
    "    if gdStatistics10[k] > 0.5:\n",
    "        ds10[k] = gdStatistics10[k]\n",
    "\n",
    "for k in gdStatistics5:\n",
    "    if gdStatistics5[k] > 0.5:\n",
    "        ds5[k] = gdStatistics5[k]"
   ]
  },
  {
   "cell_type": "markdown",
   "metadata": {},
   "source": [
    "goodDesignStatistics = dict()\n",
    "ds20 = {'7': 0.746,\n",
    "'16': 0.6,\n",
    "'17:1': 0.527,\n",
    "'18:1': 0.654,\n",
    "'9:1': 0.538,\n",
    "'14:1': 0.655,\n",
    "'11': 0.583}\n",
    "ds10 = {'7':0.551,\n",
    "'16': 0.723,\n",
    "'18:1': 0.545,\n",
    "'14:1': 0.785,\n",
    "'11': 0.792,}\n",
    "ds5 = {'11' :0.729}"
   ]
  },
  {
   "cell_type": "code",
   "execution_count": 30,
   "metadata": {},
   "outputs": [],
   "source": [
    "ds = [ds5,ds10,ds20]"
   ]
  },
  {
   "cell_type": "code",
   "execution_count": 31,
   "metadata": {},
   "outputs": [
    {
     "data": {
      "text/plain": [
       "[{'11:2': 1.0, '12:4': 0.567},\n",
       " {'11:2': 0.835, '12:4': 0.559, '23': 0.638, '24:2': 0.601},\n",
       " {}]"
      ]
     },
     "execution_count": 31,
     "metadata": {},
     "output_type": "execute_result"
    }
   ],
   "source": [
    "ds"
   ]
  },
  {
   "cell_type": "code",
   "execution_count": 32,
   "metadata": {},
   "outputs": [],
   "source": [
    "with open('goodDesignStatistics.json','w') as file:\n",
    "    json.dump(ds,file)"
   ]
  },
  {
   "cell_type": "code",
   "execution_count": 33,
   "metadata": {},
   "outputs": [],
   "source": [
    "with open('goodDesignStatistics.json','r') as file:\n",
    "    temp = json.load(file)"
   ]
  },
  {
   "cell_type": "code",
   "execution_count": 34,
   "metadata": {},
   "outputs": [
    {
     "data": {
      "text/plain": [
       "[{'11:2': 1.0, '12:4': 0.567},\n",
       " {'11:2': 0.835, '12:4': 0.559, '23': 0.638, '24:2': 0.601},\n",
       " {}]"
      ]
     },
     "execution_count": 34,
     "metadata": {},
     "output_type": "execute_result"
    }
   ],
   "source": [
    "temp"
   ]
  },
  {
   "cell_type": "code",
   "execution_count": 35,
   "metadata": {},
   "outputs": [
    {
     "data": {
      "text/plain": [
       "{'11:2': 1.0, '12:4': 0.567}"
      ]
     },
     "execution_count": 35,
     "metadata": {},
     "output_type": "execute_result"
    }
   ],
   "source": [
    "ds5"
   ]
  },
  {
   "cell_type": "code",
   "execution_count": 36,
   "metadata": {},
   "outputs": [],
   "source": [
    "completeGDDict = dict()\n",
    "for key in gdStatistics10.keys():\n",
    "    val1, val2, val3 = gdStatistics5[key],gdStatistics10[key],gdStatistics20[key]\n",
    "    completeGDDict[key] = [val1,val2,val3]\n",
    "completeGDDict['5:4'] = [.0,.0,.0]"
   ]
  },
  {
   "cell_type": "code",
   "execution_count": 37,
   "metadata": {},
   "outputs": [],
   "source": [
    "keys = completeGDDict.keys()\n",
    "def key(x):\n",
    "    if ':' in x:\n",
    "        s1, s2 = x.split(':')\n",
    "    else:\n",
    "        s1, s2 = x, '0'\n",
    "    return float(s1) + float(s2)/10\n",
    "keys = sorted(keys,key= key)"
   ]
  },
  {
   "cell_type": "code",
   "execution_count": 38,
   "metadata": {},
   "outputs": [
    {
     "name": "stdout",
     "output_type": "stream",
     "text": [
      "1 [0.0, 0.0, 0.0]\n",
      "2 [0.0, 0.0, 0.0]\n",
      "3:1 [0.0, 0.0, 0.0]\n",
      "3:2 [0.0, 0.0, 0.0]\n",
      "4 [0.0, 0.0, 0.0]\n",
      "5:1 [0.0, 0.0, 0.0]\n",
      "5:2 [0.001, 0.0, 0.0]\n",
      "5:3 [0.0, 0.0, 0.0]\n",
      "5:4 [0.0, 0.0, 0.0]\n",
      "6 [0.0, 0.0, 0.0]\n",
      "7:1 [0.001, 0.0, 0.0]\n",
      "7:2 [0.0, 0.0, 0.0]\n",
      "8 [0.0, 0.0, 0.001]\n",
      "9 [0.246, 0.313, 0.238]\n",
      "10:1 [0.0, 0.0, 0.0]\n",
      "10:2 [0.131, 0.336, 0.289]\n",
      "11:1 [0.01, 0.0, 0.0]\n",
      "11:2 [1.0, 0.835, 0.47]\n",
      "12:1 [0.0, 0.0, 0.0]\n",
      "12:2 [0.064, 0.015, 0.0]\n",
      "12:3 [0.0, 0.0, 0.0]\n",
      "12:4 [0.567, 0.559, 0.189]\n",
      "13 [0.062, 0.096, 0.057]\n",
      "14:1 [0.027, 0.022, 0.0]\n",
      "14:2 [0.096, 0.172, 0.089]\n",
      "15 [0.004, 0.098, 0.234]\n",
      "16:1 [0.0, 0.0, 0.0]\n",
      "16:2 [0.0, 0.05, 0.143]\n",
      "17 [0.042, 0.264, 0.48]\n",
      "18:1 [0.0, 0.0, 0.0]\n",
      "18:2 [0.033, 0.216, 0.418]\n",
      "19 [0.006, 0.016, 0.013]\n",
      "20 [0.045, 0.071, 0.016]\n",
      "21 [0.147, 0.427, 0.41]\n",
      "22 [0.08, 0.391, 0.344]\n",
      "23 [0.411, 0.638, 0.476]\n",
      "24:1 [0.0, 0.0, 0.0]\n",
      "24:2 [0.412, 0.601, 0.307]\n",
      "25 [0.149, 0.246, 0.155]\n",
      "26 [0.21, 0.398, 0.214]\n"
     ]
    }
   ],
   "source": [
    "for k in keys:\n",
    "    print(k, completeGDDict[k])"
   ]
  },
  {
   "cell_type": "code",
   "execution_count": 39,
   "metadata": {},
   "outputs": [],
   "source": [
    "s = []\n",
    "for key in keys:\n",
    "    vals = list(map(lambda x: str(x), completeGDDict[key]))\n",
    "    temp = '&'.join([key]+vals)\n",
    "    s.append(temp+'\\\\\\ \\hline')"
   ]
  },
  {
   "cell_type": "code",
   "execution_count": 40,
   "metadata": {
    "scrolled": true
   },
   "outputs": [
    {
     "name": "stdout",
     "output_type": "stream",
     "text": [
      "1&0.0&0.0&0.0\\\\ \\hline\n",
      "2&0.0&0.0&0.0\\\\ \\hline\n",
      "3:1&0.0&0.0&0.0\\\\ \\hline\n",
      "3:2&0.0&0.0&0.0\\\\ \\hline\n",
      "4&0.0&0.0&0.0\\\\ \\hline\n",
      "5:1&0.0&0.0&0.0\\\\ \\hline\n",
      "5:2&0.001&0.0&0.0\\\\ \\hline\n",
      "5:3&0.0&0.0&0.0\\\\ \\hline\n",
      "5:4&0.0&0.0&0.0\\\\ \\hline\n",
      "6&0.0&0.0&0.0\\\\ \\hline\n",
      "7:1&0.001&0.0&0.0\\\\ \\hline\n",
      "7:2&0.0&0.0&0.0\\\\ \\hline\n",
      "8&0.0&0.0&0.001\\\\ \\hline\n",
      "9&0.246&0.313&0.238\\\\ \\hline\n",
      "10:1&0.0&0.0&0.0\\\\ \\hline\n",
      "10:2&0.131&0.336&0.289\\\\ \\hline\n",
      "11:1&0.01&0.0&0.0\\\\ \\hline\n",
      "11:2&1.0&0.835&0.47\\\\ \\hline\n",
      "12:1&0.0&0.0&0.0\\\\ \\hline\n",
      "12:2&0.064&0.015&0.0\\\\ \\hline\n",
      "12:3&0.0&0.0&0.0\\\\ \\hline\n",
      "12:4&0.567&0.559&0.189\\\\ \\hline\n",
      "13&0.062&0.096&0.057\\\\ \\hline\n",
      "14:1&0.027&0.022&0.0\\\\ \\hline\n",
      "14:2&0.096&0.172&0.089\\\\ \\hline\n",
      "15&0.004&0.098&0.234\\\\ \\hline\n",
      "16:1&0.0&0.0&0.0\\\\ \\hline\n",
      "16:2&0.0&0.05&0.143\\\\ \\hline\n",
      "17&0.042&0.264&0.48\\\\ \\hline\n",
      "18:1&0.0&0.0&0.0\\\\ \\hline\n",
      "18:2&0.033&0.216&0.418\\\\ \\hline\n",
      "19&0.006&0.016&0.013\\\\ \\hline\n",
      "20&0.045&0.071&0.016\\\\ \\hline\n",
      "21&0.147&0.427&0.41\\\\ \\hline\n",
      "22&0.08&0.391&0.344\\\\ \\hline\n",
      "23&0.411&0.638&0.476\\\\ \\hline\n",
      "24:1&0.0&0.0&0.0\\\\ \\hline\n",
      "24:2&0.412&0.601&0.307\\\\ \\hline\n",
      "25&0.149&0.246&0.155\\\\ \\hline\n",
      "26&0.21&0.398&0.214\\\\ \\hline\n"
     ]
    }
   ],
   "source": [
    "for i in s:\n",
    "    print(i)"
   ]
  },
  {
   "cell_type": "code",
   "execution_count": 41,
   "metadata": {},
   "outputs": [],
   "source": [
    "def outProportion(key,d):\n",
    "    values = 0\n",
    "    for k in d:\n",
    "        if k!=key:\n",
    "            values+=d[k]\n",
    "    return values/len(d)"
   ]
  },
  {
   "cell_type": "code",
   "execution_count": 42,
   "metadata": {},
   "outputs": [],
   "source": [
    "outStatistics5 = dict()\n",
    "for key in gdStatistics5:\n",
    "    outStatistics5[key] = outProportion(key,gdStatistics5)"
   ]
  },
  {
   "cell_type": "code",
   "execution_count": 43,
   "metadata": {},
   "outputs": [],
   "source": [
    "outStatistics10 = dict()\n",
    "for key in gdStatistics10:\n",
    "    outStatistics10[key] = outProportion(key,gdStatistics10)"
   ]
  },
  {
   "cell_type": "code",
   "execution_count": 44,
   "metadata": {},
   "outputs": [],
   "source": [
    "outStatistics20 = dict()\n",
    "for key in gdStatistics20:\n",
    "    outStatistics20[key] = outProportion(key,gdStatistics20)"
   ]
  },
  {
   "cell_type": "code",
   "execution_count": 45,
   "metadata": {},
   "outputs": [
    {
     "data": {
      "text/plain": [
       "{'1': 0.09599999999999999,\n",
       " '2': 0.09599999999999999,\n",
       " '3:1': 0.09599999999999999,\n",
       " '3:2': 0.09599999999999999,\n",
       " '4': 0.09599999999999999,\n",
       " '5:1': 0.09599999999999999,\n",
       " '5:2': 0.09597435897435896,\n",
       " '5:3': 0.09599999999999999,\n",
       " '6': 0.09599999999999999,\n",
       " '7:1': 0.09597435897435896,\n",
       " '7:2': 0.09599999999999999,\n",
       " '8': 0.09599999999999999,\n",
       " '9': 0.08969230769230767,\n",
       " '10:1': 0.09599999999999999,\n",
       " '10:2': 0.09264102564102562,\n",
       " '11:1': 0.09574358974358972,\n",
       " '11:2': 0.07035897435897437,\n",
       " '12:1': 0.09599999999999999,\n",
       " '12:2': 0.09435897435897433,\n",
       " '12:3': 0.09599999999999999,\n",
       " '12:4': 0.08146153846153846,\n",
       " '13': 0.0944102564102564,\n",
       " '14:1': 0.09530769230769229,\n",
       " '14:2': 0.09353846153846151,\n",
       " '15': 0.09589743589743588,\n",
       " '16:1': 0.09599999999999999,\n",
       " '16:2': 0.09599999999999999,\n",
       " '17': 0.09492307692307692,\n",
       " '18:1': 0.09599999999999999,\n",
       " '18:2': 0.09515384615384614,\n",
       " '19': 0.09584615384615383,\n",
       " '20': 0.09484615384615383,\n",
       " '21': 0.09223076923076921,\n",
       " '22': 0.09394871794871792,\n",
       " '23': 0.08546153846153845,\n",
       " '24:1': 0.09599999999999999,\n",
       " '24:2': 0.08543589743589743,\n",
       " '25': 0.09217948717948717,\n",
       " '26': 0.0906153846153846}"
      ]
     },
     "execution_count": 45,
     "metadata": {},
     "output_type": "execute_result"
    }
   ],
   "source": [
    "outStatistics5"
   ]
  },
  {
   "cell_type": "code",
   "execution_count": 49,
   "metadata": {},
   "outputs": [],
   "source": [
    "from collections import Counter"
   ]
  },
  {
   "cell_type": "code",
   "execution_count": 50,
   "metadata": {},
   "outputs": [],
   "source": [
    "def getDominantPortrait(portraitList):\n",
    "    ret = []\n",
    "    index = portraitList[0][0]\n",
    "    ret.append(index)\n",
    "    for i in range(1,4):\n",
    "        l = [tuple(t[i]) for t in portraitList]\n",
    "        portrait, numbers = Counter(l).most_common()[0][0], Counter(l).most_common()[0][1]\n",
    "        ret.append(portrait)\n",
    "    \n",
    "    return ret"
   ]
  },
  {
   "cell_type": "code",
   "execution_count": 51,
   "metadata": {},
   "outputs": [],
   "source": [
    "l = []\n",
    "for i in range(len(ret)):\n",
    "    portraitList = ret[i]\n",
    "    dominants = getDominantPortrait(portraitList)\n",
    "    l.append(dominants)"
   ]
  },
  {
   "cell_type": "code",
   "execution_count": 54,
   "metadata": {},
   "outputs": [],
   "source": [
    "d = dict()\n",
    "for k in l:\n",
    "    d[k[0]] = k[1:]\n",
    "d['5:4'] = [(),(),()]"
   ]
  },
  {
   "cell_type": "code",
   "execution_count": 55,
   "metadata": {},
   "outputs": [
    {
     "data": {
      "text/plain": [
       "{'1': [(0, 0, 0, 0, 0, 1), (0, 0, 0, 0, 0, 1), (0, 0, 0, 0, 0, 1)],\n",
       " '2': [(0, 0, 0, 0, 1, 0), (0, 0, 0, 0, 1, 0), (0, 0, 0, 0, 1, 0)],\n",
       " '3:1': [(0, 0, 0, 0, 0, 1), (0, 0, 0, 0, 0, 1), (0, 0, 0, 0, 0, 1)],\n",
       " '3:2': [(0, 0, 0, 0, 1, 0), (0, 0, 0, 0, 1, 0), (0, 0, 0, 0, 1, 0)],\n",
       " '4': [(0, 0, 0, 1, 0, 0), (0, 0, 0, 1, 0, 0), (0, 0, 0, 1, 0, 0)],\n",
       " '5:1': [(0, 0, 0, 0, 0, 1), (0, 0, 0, 1, 0, 1), (0, 0, 0, 1, 0, 1)],\n",
       " '5:2': [(0, 0, 0, 1, 0, 0), (0, 0, 0, 1, 0, 0), (0, 0, 0, 1, 0, 0)],\n",
       " '5:3': [(0, 0, 0, 0, 0, 1), (0, 0, 0, 0, 0, 1), (0, 0, 0, 0, 0, 1)],\n",
       " '6': [(0, 0, 0, 0, 0, 1), (0, 0, 0, 0, 0, 1), (0, 0, 0, 0, 1, 1)],\n",
       " '7:1': [(0, 0, 0, 1, 0, 1), (0, 0, 0, 1, 0, 1), (0, 0, 0, 1, 0, 1)],\n",
       " '7:2': [(0, 0, 0, 0, 0, 1), (0, 0, 0, 0, 0, 1), (0, 0, 0, 0, 0, 1)],\n",
       " '8': [(0, 0, 0, 0, 0, 1), (0, 0, 0, 0, 0, 1), (0, 0, 0, 0, 0, 1)],\n",
       " '9': [(0, 0, 0, 0, 1, 0), (0, 0, 0, 0, 1, 0), (0, 1, 0, 0, 1, 0)],\n",
       " '10:1': [(0, 0, 0, 0, 0, 1), (0, 0, 0, 0, 0, 1), (0, 0, 0, 0, 0, 1)],\n",
       " '10:2': [(0, 0, 0, 0, 1, 0), (0, 0, 0, 0, 1, 0), (0, 0, 0, 0, 1, 0)],\n",
       " '11:1': [(0, 0, 0, 1, 0, 0), (0, 0, 0, 1, 0, 0), (0, 0, 0, 1, 0, 0)],\n",
       " '11:2': [(0, 1, 0, 0, 0, 0), (0, 1, 0, 0, 0, 0), (0, 1, 0, 1, 0, 0)],\n",
       " '12:1': [(0, 0, 0, 0, 0, 1), (0, 0, 0, 0, 0, 1), (0, 0, 0, 0, 0, 1)],\n",
       " '12:2': [(0, 0, 0, 1, 0, 0), (0, 0, 0, 1, 0, 0), (0, 1, 0, 1, 0, 0)],\n",
       " '12:3': [(0, 0, 0, 0, 0, 1), (0, 0, 0, 0, 0, 1), (0, 0, 0, 0, 0, 1)],\n",
       " '12:4': [(0, 1, 0, 0, 0, 0), (0, 1, 0, 0, 0, 0), (0, 1, 0, 0, 0, 1)],\n",
       " '13': [(0, 0, 0, 0, 0, 1), (0, 0, 0, 0, 0, 1), (0, 1, 0, 0, 0, 1)],\n",
       " '14:1': [(0, 0, 0, 0, 0, 1), (0, 0, 0, 0, 0, 1), (0, 0, 0, 1, 0, 1)],\n",
       " '14:2': [(0, 0, 0, 0, 0, 1), (0, 0, 0, 0, 0, 1), (0, 1, 0, 0, 0, 1)],\n",
       " '15': [(0, 0, 0, 0, 1, 0), (0, 0, 0, 0, 1, 0), (0, 0, 0, 0, 1, 0)],\n",
       " '16:1': [(0, 0, 0, 0, 0, 1), (0, 0, 0, 0, 0, 1), (0, 0, 0, 0, 1, 1)],\n",
       " '16:2': [(0, 0, 0, 0, 1, 0), (0, 0, 0, 0, 1, 0), (0, 0, 0, 0, 1, 0)],\n",
       " '17': [(0, 0, 0, 1, 0, 0), (0, 0, 0, 1, 0, 0), (1, 0, 0, 0, 0, 0)],\n",
       " '18:1': [(0, 0, 0, 0, 0, 1), (0, 0, 0, 0, 0, 1), (0, 0, 0, 0, 0, 1)],\n",
       " '18:2': [(0, 0, 0, 0, 1, 0), (0, 0, 0, 1, 0, 0), (1, 0, 0, 0, 0, 0)],\n",
       " '19': [(0, 0, 0, 0, 1, 0), (0, 0, 0, 0, 1, 0), (0, 0, 0, 0, 1, 1)],\n",
       " '20': [(0, 0, 0, 0, 0, 1), (0, 0, 0, 0, 0, 1), (1, 0, 0, 0, 0, 1)],\n",
       " '21': [(0, 0, 0, 0, 1, 0), (0, 0, 0, 0, 1, 0), (1, 0, 0, 0, 1, 0)],\n",
       " '22': [(0, 0, 0, 0, 1, 0), (0, 0, 0, 0, 1, 0), (0, 0, 0, 0, 1, 0)],\n",
       " '23': [(0, 0, 0, 1, 0, 0), (1, 0, 0, 0, 0, 0), (1, 0, 0, 0, 0, 0)],\n",
       " '24:1': [(0, 0, 0, 0, 0, 1), (0, 0, 0, 0, 0, 1), (0, 0, 0, 0, 0, 1)],\n",
       " '24:2': [(0, 1, 0, 0, 0, 0), (0, 1, 0, 0, 0, 0), (0, 1, 0, 1, 0, 0)],\n",
       " '25': [(0, 0, 0, 0, 1, 0), (0, 0, 0, 0, 1, 0), (0, 0, 0, 0, 1, 0)],\n",
       " '26': [(0, 0, 0, 0, 1, 0), (0, 1, 0, 0, 0, 0), (0, 0, 0, 0, 0, 1)],\n",
       " '5:4': [(), (), ()]}"
      ]
     },
     "execution_count": 55,
     "metadata": {},
     "output_type": "execute_result"
    }
   ],
   "source": [
    "d"
   ]
  },
  {
   "cell_type": "code",
   "execution_count": 56,
   "metadata": {},
   "outputs": [],
   "source": [
    "def comp(a):\n",
    "    if ':' in a:\n",
    "        sa = a.split(':')\n",
    "        sa = [int(x) for x in sa]\n",
    "    else:\n",
    "        sa = [int(a), 0]\n",
    "        \n",
    "    #if ':' in b:\n",
    "    #    sb = b.split(':')\n",
    "    #else:\n",
    "    #    sb = [b, '0']\n",
    "        \n",
    "    return sa\n",
    "\n",
    "sortedPortrait = sorted(d.keys(),key = comp)"
   ]
  },
  {
   "cell_type": "code",
   "execution_count": 57,
   "metadata": {},
   "outputs": [],
   "source": [
    "dsorted = dict()\n",
    "for k in sortedPortrait:\n",
    "    dsorted[k] = d[k]"
   ]
  },
  {
   "cell_type": "code",
   "execution_count": 58,
   "metadata": {},
   "outputs": [
    {
     "data": {
      "text/plain": [
       "{'1': [(0, 0, 0, 0, 0, 1), (0, 0, 0, 0, 0, 1), (0, 0, 0, 0, 0, 1)],\n",
       " '2': [(0, 0, 0, 0, 1, 0), (0, 0, 0, 0, 1, 0), (0, 0, 0, 0, 1, 0)],\n",
       " '3:1': [(0, 0, 0, 0, 0, 1), (0, 0, 0, 0, 0, 1), (0, 0, 0, 0, 0, 1)],\n",
       " '3:2': [(0, 0, 0, 0, 1, 0), (0, 0, 0, 0, 1, 0), (0, 0, 0, 0, 1, 0)],\n",
       " '4': [(0, 0, 0, 1, 0, 0), (0, 0, 0, 1, 0, 0), (0, 0, 0, 1, 0, 0)],\n",
       " '5:1': [(0, 0, 0, 0, 0, 1), (0, 0, 0, 1, 0, 1), (0, 0, 0, 1, 0, 1)],\n",
       " '5:2': [(0, 0, 0, 1, 0, 0), (0, 0, 0, 1, 0, 0), (0, 0, 0, 1, 0, 0)],\n",
       " '5:3': [(0, 0, 0, 0, 0, 1), (0, 0, 0, 0, 0, 1), (0, 0, 0, 0, 0, 1)],\n",
       " '5:4': [(), (), ()],\n",
       " '6': [(0, 0, 0, 0, 0, 1), (0, 0, 0, 0, 0, 1), (0, 0, 0, 0, 1, 1)],\n",
       " '7:1': [(0, 0, 0, 1, 0, 1), (0, 0, 0, 1, 0, 1), (0, 0, 0, 1, 0, 1)],\n",
       " '7:2': [(0, 0, 0, 0, 0, 1), (0, 0, 0, 0, 0, 1), (0, 0, 0, 0, 0, 1)],\n",
       " '8': [(0, 0, 0, 0, 0, 1), (0, 0, 0, 0, 0, 1), (0, 0, 0, 0, 0, 1)],\n",
       " '9': [(0, 0, 0, 0, 1, 0), (0, 0, 0, 0, 1, 0), (0, 1, 0, 0, 1, 0)],\n",
       " '10:1': [(0, 0, 0, 0, 0, 1), (0, 0, 0, 0, 0, 1), (0, 0, 0, 0, 0, 1)],\n",
       " '10:2': [(0, 0, 0, 0, 1, 0), (0, 0, 0, 0, 1, 0), (0, 0, 0, 0, 1, 0)],\n",
       " '11:1': [(0, 0, 0, 1, 0, 0), (0, 0, 0, 1, 0, 0), (0, 0, 0, 1, 0, 0)],\n",
       " '11:2': [(0, 1, 0, 0, 0, 0), (0, 1, 0, 0, 0, 0), (0, 1, 0, 1, 0, 0)],\n",
       " '12:1': [(0, 0, 0, 0, 0, 1), (0, 0, 0, 0, 0, 1), (0, 0, 0, 0, 0, 1)],\n",
       " '12:2': [(0, 0, 0, 1, 0, 0), (0, 0, 0, 1, 0, 0), (0, 1, 0, 1, 0, 0)],\n",
       " '12:3': [(0, 0, 0, 0, 0, 1), (0, 0, 0, 0, 0, 1), (0, 0, 0, 0, 0, 1)],\n",
       " '12:4': [(0, 1, 0, 0, 0, 0), (0, 1, 0, 0, 0, 0), (0, 1, 0, 0, 0, 1)],\n",
       " '13': [(0, 0, 0, 0, 0, 1), (0, 0, 0, 0, 0, 1), (0, 1, 0, 0, 0, 1)],\n",
       " '14:1': [(0, 0, 0, 0, 0, 1), (0, 0, 0, 0, 0, 1), (0, 0, 0, 1, 0, 1)],\n",
       " '14:2': [(0, 0, 0, 0, 0, 1), (0, 0, 0, 0, 0, 1), (0, 1, 0, 0, 0, 1)],\n",
       " '15': [(0, 0, 0, 0, 1, 0), (0, 0, 0, 0, 1, 0), (0, 0, 0, 0, 1, 0)],\n",
       " '16:1': [(0, 0, 0, 0, 0, 1), (0, 0, 0, 0, 0, 1), (0, 0, 0, 0, 1, 1)],\n",
       " '16:2': [(0, 0, 0, 0, 1, 0), (0, 0, 0, 0, 1, 0), (0, 0, 0, 0, 1, 0)],\n",
       " '17': [(0, 0, 0, 1, 0, 0), (0, 0, 0, 1, 0, 0), (1, 0, 0, 0, 0, 0)],\n",
       " '18:1': [(0, 0, 0, 0, 0, 1), (0, 0, 0, 0, 0, 1), (0, 0, 0, 0, 0, 1)],\n",
       " '18:2': [(0, 0, 0, 0, 1, 0), (0, 0, 0, 1, 0, 0), (1, 0, 0, 0, 0, 0)],\n",
       " '19': [(0, 0, 0, 0, 1, 0), (0, 0, 0, 0, 1, 0), (0, 0, 0, 0, 1, 1)],\n",
       " '20': [(0, 0, 0, 0, 0, 1), (0, 0, 0, 0, 0, 1), (1, 0, 0, 0, 0, 1)],\n",
       " '21': [(0, 0, 0, 0, 1, 0), (0, 0, 0, 0, 1, 0), (1, 0, 0, 0, 1, 0)],\n",
       " '22': [(0, 0, 0, 0, 1, 0), (0, 0, 0, 0, 1, 0), (0, 0, 0, 0, 1, 0)],\n",
       " '23': [(0, 0, 0, 1, 0, 0), (1, 0, 0, 0, 0, 0), (1, 0, 0, 0, 0, 0)],\n",
       " '24:1': [(0, 0, 0, 0, 0, 1), (0, 0, 0, 0, 0, 1), (0, 0, 0, 0, 0, 1)],\n",
       " '24:2': [(0, 1, 0, 0, 0, 0), (0, 1, 0, 0, 0, 0), (0, 1, 0, 1, 0, 0)],\n",
       " '25': [(0, 0, 0, 0, 1, 0), (0, 0, 0, 0, 1, 0), (0, 0, 0, 0, 1, 0)],\n",
       " '26': [(0, 0, 0, 0, 1, 0), (0, 1, 0, 0, 0, 0), (0, 0, 0, 0, 0, 1)]}"
      ]
     },
     "execution_count": 58,
     "metadata": {},
     "output_type": "execute_result"
    }
   ],
   "source": [
    "dsorted"
   ]
  },
  {
   "cell_type": "code",
   "execution_count": 59,
   "metadata": {},
   "outputs": [
    {
     "data": {
      "text/plain": [
       "'/Users/lunzhang/Desktop/datapool/OrbModel/goodDesign12'"
      ]
     },
     "execution_count": 59,
     "metadata": {},
     "output_type": "execute_result"
    }
   ],
   "source": [
    "pwd"
   ]
  },
  {
   "cell_type": "code",
   "execution_count": 62,
   "metadata": {},
   "outputs": [],
   "source": [
    "with open('dominant12.json','w') as file:\n",
    "    json.dump(dsorted,file)"
   ]
  },
  {
   "cell_type": "code",
   "execution_count": 61,
   "metadata": {
    "scrolled": true
   },
   "outputs": [
    {
     "data": {
      "text/plain": [
       "40"
      ]
     },
     "execution_count": 61,
     "metadata": {},
     "output_type": "execute_result"
    }
   ],
   "source": [
    "len(dsorted)"
   ]
  }
 ],
 "metadata": {
  "kernelspec": {
   "display_name": "Python (tensorflow)",
   "language": "python",
   "name": "myenv"
  },
  "language_info": {
   "codemirror_mode": {
    "name": "ipython",
    "version": 3
   },
   "file_extension": ".py",
   "mimetype": "text/x-python",
   "name": "python",
   "nbconvert_exporter": "python",
   "pygments_lexer": "ipython3",
   "version": "3.6.7"
  }
 },
 "nbformat": 4,
 "nbformat_minor": 2
}
